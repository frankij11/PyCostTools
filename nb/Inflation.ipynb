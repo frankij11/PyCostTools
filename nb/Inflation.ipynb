{
 "cells": [
  {
   "cell_type": "markdown",
   "id": "844b4139-9247-4a65-aaf6-23ab503fb8c4",
   "metadata": {},
   "source": [
    "# Inflation and Escalation using (BLS)\n",
    "- link PPI codes (for Commodities)\n",
    "    - Overview: https://www.bls.gov/ppi/overview.htm\n",
    "    - inudstry: https://download.bls.gov/pub/time.series/pc/pc.industry\n",
    "    - products: https://download.bls.gov/pub/time.series/pc/pc.product\n",
    "    - construct code: https://www.bls.gov/help/hlpforma.htm#WP\n",
    "    - group codes: https://download.bls.gov/pub/time.series/wd/wd.group\n",
    "    - item codes: https://download.bls.gov/pub/time.series/wd/wd.item\n"
   ]
  },
  {
   "cell_type": "code",
   "execution_count": null,
   "id": "a31c3ede-97f0-43e8-bfef-840947835be4",
   "metadata": {},
   "outputs": [],
   "source": [
    "import pandas as pd\n",
    "import requests\n",
    "import json\n",
    "pd.options.plotting.backend=\"plotly\"\n",
    "\n",
    "# link PPI codes (for Commodities)\n",
    "    # Overview: https://www.bls.gov/ppi/overview.htm\n",
    "    # inudstry: https://download.bls.gov/pub/time.series/pc/pc.industry\n",
    "    # products: https://download.bls.gov/pub/time.series/pc/pc.product\n",
    "    # construct code: https://www.bls.gov/help/hlpforma.htm#WP\n",
    "    # group codes: https://download.bls.gov/pub/time.series/wd/wd.group\n",
    "    # item codes: https://download.bls.gov/pub/time.series/wd/wd.item\n",
    "key = 'f735c845833c4374b10b252cecc0d1da'\n",
    "bls_ids_commodity = [\"WPU14\",\"WPU142\",\"WPU141\",\"WPU14210206\",\"WPU142104\" ]\n",
    "bls_ids = [\"PCU336---336---\",\"PCU3364--3364--\",\"PCU3366--3366--\", \"PCU336611336611\", \"PCU331---331---\" ]\n",
    "def bls_formatted_data(seriesid=bls_ids,startyear=2011, endyear=2014, key=key):\n",
    "    data = bls_search(seriesid, startyear,endyear)\n",
    "    if data['status'] ==\"REQUEST_SUCCEEDED\":\n",
    "        return bls_format(data)\n",
    "    else:\n",
    "        return data\n",
    "\n",
    "\n",
    "def bls_surveys():\n",
    "    p = requests.post('https://api.bls.gov/publicAPI/v2/surveys')#, data=data, headers=headers)#,annualaverage=True, registrationkey=key)\n",
    "    json_data = json.loads(p.text)\n",
    "    #df = pd.DataFrame(json_data)\n",
    "    df = pd.DataFrame()    \n",
    "    for survey in json_data['Results']['survey']:\n",
    "        tmp = {key: [item] for key, item in survey.items()}\n",
    "        df= df.append(pd.DataFrame(tmp), ignore_index=True)\n",
    "    \n",
    "    return df\n",
    "def bls_search(seriesid=bls_ids,startyear=2001, endyear=2021, key=key):\n",
    "    headers = {'Content-type': 'application/json'}\n",
    "    data = json.dumps({\"seriesid\": seriesid,\"startyear\":str(startyear), \"endyear\":str(endyear), \"catalog\":True,\"annualaverage\":True, \"registrationkey\":key})\n",
    "    p = requests.post('https://api.bls.gov/publicAPI/v2/timeseries/data/', data=data, headers=headers)#,annualaverage=True, registrationkey=key)\n",
    "    json_data = json.loads(p.text)\n",
    "    return json_data\n",
    "def bls_format(data):\n",
    "    json_data = data\n",
    "    df = pd.DataFrame()\n",
    "    for series in json_data['Results']['series']:\n",
    "        meta = {key: item for key,item in series['catalog'].items()}\n",
    "        x=pd.DataFrame(series['data']).assign(**meta)\n",
    "        df = df.append(x)\n",
    "    return df\n",
    "def get_bls(seriesid=bls_ids,startyear=2001, endyear=2021, key=key, annual=True, BY = 2020):\n",
    "    data= bls_search(seriesid=seriesid,startyear=startyear, endyear=endyear, key=key)\n",
    "    df = bls_format(data)\n",
    "    if annual:\n",
    "        df = df.query('periodName == \"Annual\"').assign(BY = BY)\n",
    "        by_vals = df.query(f\"year =='{BY}'\")[['series_id', 'value']].assign(BY_VALUE = lambda x: x.value).drop('value', axis=1)\n",
    "        df =df.merge(by_vals, on='series_id', how='left').assign(value = lambda x: x.value.map(float) / x.BY_VALUE.map(float))\n",
    "        \n",
    "    else:\n",
    "        df = df.query('periodName != \"Annual\"')\n",
    "    return df\n",
    "    \n",
    "\n"
   ]
  },
  {
   "cell_type": "code",
   "execution_count": null,
   "id": "e0fbc9b8-8d92-415f-b7cb-9e2a7bad926b",
   "metadata": {},
   "outputs": [
    {
     "name": "stdout",
     "output_type": "stream",
     "text": [
      "BaseYear = []\n"
     ]
    },
    {
     "data": {
      "text/html": [
       "<div>\n",
       "<style scoped>\n",
       "    .dataframe tbody tr th:only-of-type {\n",
       "        vertical-align: middle;\n",
       "    }\n",
       "\n",
       "    .dataframe tbody tr th {\n",
       "        vertical-align: top;\n",
       "    }\n",
       "\n",
       "    .dataframe thead th {\n",
       "        text-align: right;\n",
       "    }\n",
       "</style>\n",
       "<table border=\"1\" class=\"dataframe\">\n",
       "  <thead>\n",
       "    <tr style=\"text-align: right;\">\n",
       "      <th></th>\n",
       "      <th>year</th>\n",
       "      <th>period</th>\n",
       "      <th>periodName</th>\n",
       "      <th>value</th>\n",
       "      <th>footnotes</th>\n",
       "      <th>series_title</th>\n",
       "      <th>series_id</th>\n",
       "      <th>seasonality</th>\n",
       "      <th>survey_name</th>\n",
       "      <th>survey_abbreviation</th>\n",
       "      <th>measure_data_type</th>\n",
       "      <th>commerce_industry</th>\n",
       "      <th>item</th>\n",
       "      <th>BY</th>\n",
       "      <th>BY_VALUE</th>\n",
       "    </tr>\n",
       "  </thead>\n",
       "  <tbody>\n",
       "    <tr>\n",
       "      <th>0</th>\n",
       "      <td>2020</td>\n",
       "      <td>M13</td>\n",
       "      <td>Annual</td>\n",
       "      <td>1.000000</td>\n",
       "      <td>[{}]</td>\n",
       "      <td>PPI industry sub-sector data for Transportatio...</td>\n",
       "      <td>PCU336---336---</td>\n",
       "      <td>Not Seasonally Adjusted</td>\n",
       "      <td>PPI Industry Data</td>\n",
       "      <td>PC</td>\n",
       "      <td>Transportation equipment manufacturing</td>\n",
       "      <td>Transportation equipment manufacturing</td>\n",
       "      <td>Transportation equipment manufacturing</td>\n",
       "      <td>2020</td>\n",
       "      <td>125.3</td>\n",
       "    </tr>\n",
       "    <tr>\n",
       "      <th>1</th>\n",
       "      <td>2019</td>\n",
       "      <td>M13</td>\n",
       "      <td>Annual</td>\n",
       "      <td>0.994413</td>\n",
       "      <td>[{}]</td>\n",
       "      <td>PPI industry sub-sector data for Transportatio...</td>\n",
       "      <td>PCU336---336---</td>\n",
       "      <td>Not Seasonally Adjusted</td>\n",
       "      <td>PPI Industry Data</td>\n",
       "      <td>PC</td>\n",
       "      <td>Transportation equipment manufacturing</td>\n",
       "      <td>Transportation equipment manufacturing</td>\n",
       "      <td>Transportation equipment manufacturing</td>\n",
       "      <td>2020</td>\n",
       "      <td>125.3</td>\n",
       "    </tr>\n",
       "    <tr>\n",
       "      <th>2</th>\n",
       "      <td>2018</td>\n",
       "      <td>M13</td>\n",
       "      <td>Annual</td>\n",
       "      <td>0.984038</td>\n",
       "      <td>[{}]</td>\n",
       "      <td>PPI industry sub-sector data for Transportatio...</td>\n",
       "      <td>PCU336---336---</td>\n",
       "      <td>Not Seasonally Adjusted</td>\n",
       "      <td>PPI Industry Data</td>\n",
       "      <td>PC</td>\n",
       "      <td>Transportation equipment manufacturing</td>\n",
       "      <td>Transportation equipment manufacturing</td>\n",
       "      <td>Transportation equipment manufacturing</td>\n",
       "      <td>2020</td>\n",
       "      <td>125.3</td>\n",
       "    </tr>\n",
       "    <tr>\n",
       "      <th>3</th>\n",
       "      <td>2017</td>\n",
       "      <td>M13</td>\n",
       "      <td>Annual</td>\n",
       "      <td>0.970471</td>\n",
       "      <td>[{}]</td>\n",
       "      <td>PPI industry sub-sector data for Transportatio...</td>\n",
       "      <td>PCU336---336---</td>\n",
       "      <td>Not Seasonally Adjusted</td>\n",
       "      <td>PPI Industry Data</td>\n",
       "      <td>PC</td>\n",
       "      <td>Transportation equipment manufacturing</td>\n",
       "      <td>Transportation equipment manufacturing</td>\n",
       "      <td>Transportation equipment manufacturing</td>\n",
       "      <td>2020</td>\n",
       "      <td>125.3</td>\n",
       "    </tr>\n",
       "    <tr>\n",
       "      <th>4</th>\n",
       "      <td>2016</td>\n",
       "      <td>M13</td>\n",
       "      <td>Annual</td>\n",
       "      <td>0.959298</td>\n",
       "      <td>[{}]</td>\n",
       "      <td>PPI industry sub-sector data for Transportatio...</td>\n",
       "      <td>PCU336---336---</td>\n",
       "      <td>Not Seasonally Adjusted</td>\n",
       "      <td>PPI Industry Data</td>\n",
       "      <td>PC</td>\n",
       "      <td>Transportation equipment manufacturing</td>\n",
       "      <td>Transportation equipment manufacturing</td>\n",
       "      <td>Transportation equipment manufacturing</td>\n",
       "      <td>2020</td>\n",
       "      <td>125.3</td>\n",
       "    </tr>\n",
       "    <tr>\n",
       "      <th>...</th>\n",
       "      <td>...</td>\n",
       "      <td>...</td>\n",
       "      <td>...</td>\n",
       "      <td>...</td>\n",
       "      <td>...</td>\n",
       "      <td>...</td>\n",
       "      <td>...</td>\n",
       "      <td>...</td>\n",
       "      <td>...</td>\n",
       "      <td>...</td>\n",
       "      <td>...</td>\n",
       "      <td>...</td>\n",
       "      <td>...</td>\n",
       "      <td>...</td>\n",
       "      <td>...</td>\n",
       "    </tr>\n",
       "    <tr>\n",
       "      <th>92</th>\n",
       "      <td>2005</td>\n",
       "      <td>M13</td>\n",
       "      <td>Annual</td>\n",
       "      <td>0.801128</td>\n",
       "      <td>[{}]</td>\n",
       "      <td>PPI industry sub-sector data for Primary metal...</td>\n",
       "      <td>PCU331---331---</td>\n",
       "      <td>Not Seasonally Adjusted</td>\n",
       "      <td>PPI Industry Data</td>\n",
       "      <td>PC</td>\n",
       "      <td>Primary metal mfg</td>\n",
       "      <td>Primary metal mfg</td>\n",
       "      <td>Primary metal mfg</td>\n",
       "      <td>2020</td>\n",
       "      <td>195.1</td>\n",
       "    </tr>\n",
       "    <tr>\n",
       "      <th>93</th>\n",
       "      <td>2004</td>\n",
       "      <td>M13</td>\n",
       "      <td>Annual</td>\n",
       "      <td>0.731932</td>\n",
       "      <td>[{}]</td>\n",
       "      <td>PPI industry sub-sector data for Primary metal...</td>\n",
       "      <td>PCU331---331---</td>\n",
       "      <td>Not Seasonally Adjusted</td>\n",
       "      <td>PPI Industry Data</td>\n",
       "      <td>PC</td>\n",
       "      <td>Primary metal mfg</td>\n",
       "      <td>Primary metal mfg</td>\n",
       "      <td>Primary metal mfg</td>\n",
       "      <td>2020</td>\n",
       "      <td>195.1</td>\n",
       "    </tr>\n",
       "    <tr>\n",
       "      <th>94</th>\n",
       "      <td>2003</td>\n",
       "      <td>M13</td>\n",
       "      <td>Annual</td>\n",
       "      <td>0.606868</td>\n",
       "      <td>[{}]</td>\n",
       "      <td>PPI industry sub-sector data for Primary metal...</td>\n",
       "      <td>PCU331---331---</td>\n",
       "      <td>Not Seasonally Adjusted</td>\n",
       "      <td>PPI Industry Data</td>\n",
       "      <td>PC</td>\n",
       "      <td>Primary metal mfg</td>\n",
       "      <td>Primary metal mfg</td>\n",
       "      <td>Primary metal mfg</td>\n",
       "      <td>2020</td>\n",
       "      <td>195.1</td>\n",
       "    </tr>\n",
       "    <tr>\n",
       "      <th>95</th>\n",
       "      <td>2002</td>\n",
       "      <td>M13</td>\n",
       "      <td>Annual</td>\n",
       "      <td>0.595592</td>\n",
       "      <td>[{}]</td>\n",
       "      <td>PPI industry sub-sector data for Primary metal...</td>\n",
       "      <td>PCU331---331---</td>\n",
       "      <td>Not Seasonally Adjusted</td>\n",
       "      <td>PPI Industry Data</td>\n",
       "      <td>PC</td>\n",
       "      <td>Primary metal mfg</td>\n",
       "      <td>Primary metal mfg</td>\n",
       "      <td>Primary metal mfg</td>\n",
       "      <td>2020</td>\n",
       "      <td>195.1</td>\n",
       "    </tr>\n",
       "    <tr>\n",
       "      <th>96</th>\n",
       "      <td>2001</td>\n",
       "      <td>M13</td>\n",
       "      <td>Annual</td>\n",
       "      <td>0.595079</td>\n",
       "      <td>[{}]</td>\n",
       "      <td>PPI industry sub-sector data for Primary metal...</td>\n",
       "      <td>PCU331---331---</td>\n",
       "      <td>Not Seasonally Adjusted</td>\n",
       "      <td>PPI Industry Data</td>\n",
       "      <td>PC</td>\n",
       "      <td>Primary metal mfg</td>\n",
       "      <td>Primary metal mfg</td>\n",
       "      <td>Primary metal mfg</td>\n",
       "      <td>2020</td>\n",
       "      <td>195.1</td>\n",
       "    </tr>\n",
       "  </tbody>\n",
       "</table>\n",
       "<p>97 rows × 15 columns</p>\n",
       "</div>"
      ],
      "text/plain": [
       "    year period periodName     value footnotes  \\\n",
       "0   2020    M13     Annual  1.000000      [{}]   \n",
       "1   2019    M13     Annual  0.994413      [{}]   \n",
       "2   2018    M13     Annual  0.984038      [{}]   \n",
       "3   2017    M13     Annual  0.970471      [{}]   \n",
       "4   2016    M13     Annual  0.959298      [{}]   \n",
       "..   ...    ...        ...       ...       ...   \n",
       "92  2005    M13     Annual  0.801128      [{}]   \n",
       "93  2004    M13     Annual  0.731932      [{}]   \n",
       "94  2003    M13     Annual  0.606868      [{}]   \n",
       "95  2002    M13     Annual  0.595592      [{}]   \n",
       "96  2001    M13     Annual  0.595079      [{}]   \n",
       "\n",
       "                                         series_title        series_id  \\\n",
       "0   PPI industry sub-sector data for Transportatio...  PCU336---336---   \n",
       "1   PPI industry sub-sector data for Transportatio...  PCU336---336---   \n",
       "2   PPI industry sub-sector data for Transportatio...  PCU336---336---   \n",
       "3   PPI industry sub-sector data for Transportatio...  PCU336---336---   \n",
       "4   PPI industry sub-sector data for Transportatio...  PCU336---336---   \n",
       "..                                                ...              ...   \n",
       "92  PPI industry sub-sector data for Primary metal...  PCU331---331---   \n",
       "93  PPI industry sub-sector data for Primary metal...  PCU331---331---   \n",
       "94  PPI industry sub-sector data for Primary metal...  PCU331---331---   \n",
       "95  PPI industry sub-sector data for Primary metal...  PCU331---331---   \n",
       "96  PPI industry sub-sector data for Primary metal...  PCU331---331---   \n",
       "\n",
       "                seasonality        survey_name survey_abbreviation  \\\n",
       "0   Not Seasonally Adjusted  PPI Industry Data                  PC   \n",
       "1   Not Seasonally Adjusted  PPI Industry Data                  PC   \n",
       "2   Not Seasonally Adjusted  PPI Industry Data                  PC   \n",
       "3   Not Seasonally Adjusted  PPI Industry Data                  PC   \n",
       "4   Not Seasonally Adjusted  PPI Industry Data                  PC   \n",
       "..                      ...                ...                 ...   \n",
       "92  Not Seasonally Adjusted  PPI Industry Data                  PC   \n",
       "93  Not Seasonally Adjusted  PPI Industry Data                  PC   \n",
       "94  Not Seasonally Adjusted  PPI Industry Data                  PC   \n",
       "95  Not Seasonally Adjusted  PPI Industry Data                  PC   \n",
       "96  Not Seasonally Adjusted  PPI Industry Data                  PC   \n",
       "\n",
       "                         measure_data_type  \\\n",
       "0   Transportation equipment manufacturing   \n",
       "1   Transportation equipment manufacturing   \n",
       "2   Transportation equipment manufacturing   \n",
       "3   Transportation equipment manufacturing   \n",
       "4   Transportation equipment manufacturing   \n",
       "..                                     ...   \n",
       "92                       Primary metal mfg   \n",
       "93                       Primary metal mfg   \n",
       "94                       Primary metal mfg   \n",
       "95                       Primary metal mfg   \n",
       "96                       Primary metal mfg   \n",
       "\n",
       "                         commerce_industry  \\\n",
       "0   Transportation equipment manufacturing   \n",
       "1   Transportation equipment manufacturing   \n",
       "2   Transportation equipment manufacturing   \n",
       "3   Transportation equipment manufacturing   \n",
       "4   Transportation equipment manufacturing   \n",
       "..                                     ...   \n",
       "92                       Primary metal mfg   \n",
       "93                       Primary metal mfg   \n",
       "94                       Primary metal mfg   \n",
       "95                       Primary metal mfg   \n",
       "96                       Primary metal mfg   \n",
       "\n",
       "                                      item    BY BY_VALUE  \n",
       "0   Transportation equipment manufacturing  2020    125.3  \n",
       "1   Transportation equipment manufacturing  2020    125.3  \n",
       "2   Transportation equipment manufacturing  2020    125.3  \n",
       "3   Transportation equipment manufacturing  2020    125.3  \n",
       "4   Transportation equipment manufacturing  2020    125.3  \n",
       "..                                     ...   ...      ...  \n",
       "92                       Primary metal mfg  2020    195.1  \n",
       "93                       Primary metal mfg  2020    195.1  \n",
       "94                       Primary metal mfg  2020    195.1  \n",
       "95                       Primary metal mfg  2020    195.1  \n",
       "96                       Primary metal mfg  2020    195.1  \n",
       "\n",
       "[97 rows x 15 columns]"
      ]
     },
     "execution_count": null,
     "metadata": {},
     "output_type": "execute_result"
    }
   ],
   "source": [
    "data = bls_search()\n",
    "data\n",
    "vals = bls_format(data).query('periodName ==\"Annual\"')\n",
    "vals\n",
    "\n",
    "bls = get_bls(annual=True)\n",
    "print(\"BaseYear =\", bls.query(\"value ==100\").year.unique())\n",
    "bls\n",
    "#bls.pivot_table(index=['measure_data_type'], columns=['year'])\n",
    "#vals.apply(lambda x: x / vals['2020'], axis=1) "
   ]
  },
  {
   "cell_type": "code",
   "execution_count": null,
   "id": "c7597835-8a40-46de-9b45-e88b44197655",
   "metadata": {},
   "outputs": [
    {
     "data": {
      "application/vnd.plotly.v1+json": {
       "config": {
        "plotlyServerURL": "https://plot.ly"
       },
       "data": [
        {
         "hovertemplate": "measure_data_type=Transportation equipment manufacturing<br>year=%{x}<br>value=%{y}<extra></extra>",
         "legendgroup": "Transportation equipment manufacturing",
         "line": {
          "color": "#636efa",
          "dash": "solid"
         },
         "marker": {
          "symbol": "circle"
         },
         "mode": "lines",
         "name": "Transportation equipment manufacturing",
         "orientation": "v",
         "showlegend": true,
         "type": "scatter",
         "x": [
          2020,
          2019,
          2018,
          2017,
          2016,
          2015,
          2014,
          2013,
          2012,
          2011,
          2010,
          2009,
          2008,
          2007,
          2006,
          2005,
          2004
         ],
         "xaxis": "x",
         "y": [
          1,
          0.994413407821229,
          0.9840383080606544,
          0.9704708699122107,
          0.9592976855546689,
          0.9521149241819633,
          0.9385474860335196,
          0.9257781324820431,
          0.9162011173184358,
          0.8962490023942538,
          0.8810853950518756,
          0.87390263367917,
          0.8563447725458898,
          0.8371907422186753,
          0.8236233040702314,
          0.8180367118914605,
          0.8052673583399841
         ],
         "yaxis": "y"
        },
        {
         "hovertemplate": "measure_data_type=Aerospace product and parts manufacturing<br>year=%{x}<br>value=%{y}<extra></extra>",
         "legendgroup": "Aerospace product and parts manufacturing",
         "line": {
          "color": "#EF553B",
          "dash": "solid"
         },
         "marker": {
          "symbol": "circle"
         },
         "mode": "lines",
         "name": "Aerospace product and parts manufacturing",
         "orientation": "v",
         "showlegend": true,
         "type": "scatter",
         "x": [
          2020,
          2019,
          2018,
          2017,
          2016,
          2015,
          2014,
          2013,
          2012,
          2011,
          2010,
          2009,
          2008,
          2007,
          2006,
          2005,
          2004,
          2003,
          2002,
          2001
         ],
         "xaxis": "x",
         "y": [
          1,
          0.9851729818780889,
          0.9662273476112025,
          0.9489291598023064,
          0.9386326194398682,
          0.9242174629324547,
          0.9163920922570016,
          0.9023887973640856,
          0.8883855024711697,
          0.8682042833607908,
          0.8377265238879736,
          0.8261943986820428,
          0.8080724876441515,
          0.7767710049423393,
          0.7528830313014827,
          0.7248764415156507,
          0.6919275123558484,
          0.6680395387149917,
          0.6478583196046128,
          0.637149917627677
         ],
         "yaxis": "y"
        },
        {
         "hovertemplate": "measure_data_type=Ship and boat building<br>year=%{x}<br>value=%{y}<extra></extra>",
         "legendgroup": "Ship and boat building",
         "line": {
          "color": "#00cc96",
          "dash": "solid"
         },
         "marker": {
          "symbol": "circle"
         },
         "mode": "lines",
         "name": "Ship and boat building",
         "orientation": "v",
         "showlegend": true,
         "type": "scatter",
         "x": [
          2020,
          2019,
          2018,
          2017,
          2016,
          2015,
          2014,
          2013,
          2012,
          2011,
          2010,
          2009,
          2008,
          2007,
          2006,
          2005,
          2004,
          2003,
          2002,
          2001
         ],
         "xaxis": "x",
         "y": [
          1,
          0.9831649831649831,
          0.9633838383838385,
          0.946969696969697,
          0.9360269360269361,
          0.9276094276094277,
          0.9095117845117845,
          0.8918350168350169,
          0.8817340067340067,
          0.8699494949494949,
          0.8543771043771043,
          0.8383838383838383,
          0.8156565656565657,
          0.7925084175084176,
          0.7634680134680135,
          0.7365319865319866,
          0.7138047138047138,
          0.6860269360269361,
          0.65993265993266,
          0.6422558922558923
         ],
         "yaxis": "y"
        },
        {
         "hovertemplate": "measure_data_type=Ship building and repairing<br>year=%{x}<br>value=%{y}<extra></extra>",
         "legendgroup": "Ship building and repairing",
         "line": {
          "color": "#ab63fa",
          "dash": "solid"
         },
         "marker": {
          "symbol": "circle"
         },
         "mode": "lines",
         "name": "Ship building and repairing",
         "orientation": "v",
         "showlegend": true,
         "type": "scatter",
         "x": [
          2020,
          2019,
          2018,
          2017,
          2016,
          2015,
          2014,
          2013,
          2012,
          2011,
          2010,
          2009,
          2008,
          2007,
          2006,
          2005,
          2004,
          2003,
          2002,
          2001
         ],
         "xaxis": "x",
         "y": [
          1,
          0.9873595505617978,
          0.9719101123595506,
          0.9616104868913858,
          0.9569288389513109,
          0.9545880149812734,
          0.9372659176029963,
          0.920880149812734,
          0.9194756554307116,
          0.9129213483146068,
          0.8946629213483146,
          0.8773408239700375,
          0.850187265917603,
          0.8286516853932584,
          0.7954119850187267,
          0.7673220973782772,
          0.7481273408239701,
          0.7102059925093632,
          0.674625468164794,
          0.6558988764044944
         ],
         "yaxis": "y"
        },
        {
         "hovertemplate": "measure_data_type=Primary metal mfg<br>year=%{x}<br>value=%{y}<extra></extra>",
         "legendgroup": "Primary metal mfg",
         "line": {
          "color": "#FFA15A",
          "dash": "solid"
         },
         "marker": {
          "symbol": "circle"
         },
         "mode": "lines",
         "name": "Primary metal mfg",
         "orientation": "v",
         "showlegend": true,
         "type": "scatter",
         "x": [
          2020,
          2019,
          2018,
          2017,
          2016,
          2015,
          2014,
          2013,
          2012,
          2011,
          2010,
          2009,
          2008,
          2007,
          2006,
          2005,
          2004,
          2003,
          2002,
          2001
         ],
         "xaxis": "x",
         "y": [
          1,
          1.0594566888774988,
          1.0840594566888775,
          0.9810353664787289,
          0.8980010251153254,
          0.9431060994361866,
          1.0302409021014864,
          1.018452075858534,
          1.0640697078421322,
          1.1132752434648898,
          1.0051255766273706,
          0.8841619682214249,
          1.0861096873398257,
          0.9764223475140954,
          0.919015889287545,
          0.8011276268580216,
          0.7319323423885188,
          0.6068682726806767,
          0.5955920041004613,
          0.5950794464377243
         ],
         "yaxis": "y"
        }
       ],
       "layout": {
        "autosize": true,
        "legend": {
         "title": {
          "text": "measure_data_type"
         },
         "tracegroupgap": 0
        },
        "margin": {
         "t": 60
        },
        "template": {
         "data": {
          "bar": [
           {
            "error_x": {
             "color": "#2a3f5f"
            },
            "error_y": {
             "color": "#2a3f5f"
            },
            "marker": {
             "line": {
              "color": "#E5ECF6",
              "width": 0.5
             },
             "pattern": {
              "fillmode": "overlay",
              "size": 10,
              "solidity": 0.2
             }
            },
            "type": "bar"
           }
          ],
          "barpolar": [
           {
            "marker": {
             "line": {
              "color": "#E5ECF6",
              "width": 0.5
             },
             "pattern": {
              "fillmode": "overlay",
              "size": 10,
              "solidity": 0.2
             }
            },
            "type": "barpolar"
           }
          ],
          "carpet": [
           {
            "aaxis": {
             "endlinecolor": "#2a3f5f",
             "gridcolor": "white",
             "linecolor": "white",
             "minorgridcolor": "white",
             "startlinecolor": "#2a3f5f"
            },
            "baxis": {
             "endlinecolor": "#2a3f5f",
             "gridcolor": "white",
             "linecolor": "white",
             "minorgridcolor": "white",
             "startlinecolor": "#2a3f5f"
            },
            "type": "carpet"
           }
          ],
          "choropleth": [
           {
            "colorbar": {
             "outlinewidth": 0,
             "ticks": ""
            },
            "type": "choropleth"
           }
          ],
          "contour": [
           {
            "colorbar": {
             "outlinewidth": 0,
             "ticks": ""
            },
            "colorscale": [
             [
              0,
              "#0d0887"
             ],
             [
              0.1111111111111111,
              "#46039f"
             ],
             [
              0.2222222222222222,
              "#7201a8"
             ],
             [
              0.3333333333333333,
              "#9c179e"
             ],
             [
              0.4444444444444444,
              "#bd3786"
             ],
             [
              0.5555555555555556,
              "#d8576b"
             ],
             [
              0.6666666666666666,
              "#ed7953"
             ],
             [
              0.7777777777777778,
              "#fb9f3a"
             ],
             [
              0.8888888888888888,
              "#fdca26"
             ],
             [
              1,
              "#f0f921"
             ]
            ],
            "type": "contour"
           }
          ],
          "contourcarpet": [
           {
            "colorbar": {
             "outlinewidth": 0,
             "ticks": ""
            },
            "type": "contourcarpet"
           }
          ],
          "heatmap": [
           {
            "colorbar": {
             "outlinewidth": 0,
             "ticks": ""
            },
            "colorscale": [
             [
              0,
              "#0d0887"
             ],
             [
              0.1111111111111111,
              "#46039f"
             ],
             [
              0.2222222222222222,
              "#7201a8"
             ],
             [
              0.3333333333333333,
              "#9c179e"
             ],
             [
              0.4444444444444444,
              "#bd3786"
             ],
             [
              0.5555555555555556,
              "#d8576b"
             ],
             [
              0.6666666666666666,
              "#ed7953"
             ],
             [
              0.7777777777777778,
              "#fb9f3a"
             ],
             [
              0.8888888888888888,
              "#fdca26"
             ],
             [
              1,
              "#f0f921"
             ]
            ],
            "type": "heatmap"
           }
          ],
          "heatmapgl": [
           {
            "colorbar": {
             "outlinewidth": 0,
             "ticks": ""
            },
            "colorscale": [
             [
              0,
              "#0d0887"
             ],
             [
              0.1111111111111111,
              "#46039f"
             ],
             [
              0.2222222222222222,
              "#7201a8"
             ],
             [
              0.3333333333333333,
              "#9c179e"
             ],
             [
              0.4444444444444444,
              "#bd3786"
             ],
             [
              0.5555555555555556,
              "#d8576b"
             ],
             [
              0.6666666666666666,
              "#ed7953"
             ],
             [
              0.7777777777777778,
              "#fb9f3a"
             ],
             [
              0.8888888888888888,
              "#fdca26"
             ],
             [
              1,
              "#f0f921"
             ]
            ],
            "type": "heatmapgl"
           }
          ],
          "histogram": [
           {
            "marker": {
             "pattern": {
              "fillmode": "overlay",
              "size": 10,
              "solidity": 0.2
             }
            },
            "type": "histogram"
           }
          ],
          "histogram2d": [
           {
            "colorbar": {
             "outlinewidth": 0,
             "ticks": ""
            },
            "colorscale": [
             [
              0,
              "#0d0887"
             ],
             [
              0.1111111111111111,
              "#46039f"
             ],
             [
              0.2222222222222222,
              "#7201a8"
             ],
             [
              0.3333333333333333,
              "#9c179e"
             ],
             [
              0.4444444444444444,
              "#bd3786"
             ],
             [
              0.5555555555555556,
              "#d8576b"
             ],
             [
              0.6666666666666666,
              "#ed7953"
             ],
             [
              0.7777777777777778,
              "#fb9f3a"
             ],
             [
              0.8888888888888888,
              "#fdca26"
             ],
             [
              1,
              "#f0f921"
             ]
            ],
            "type": "histogram2d"
           }
          ],
          "histogram2dcontour": [
           {
            "colorbar": {
             "outlinewidth": 0,
             "ticks": ""
            },
            "colorscale": [
             [
              0,
              "#0d0887"
             ],
             [
              0.1111111111111111,
              "#46039f"
             ],
             [
              0.2222222222222222,
              "#7201a8"
             ],
             [
              0.3333333333333333,
              "#9c179e"
             ],
             [
              0.4444444444444444,
              "#bd3786"
             ],
             [
              0.5555555555555556,
              "#d8576b"
             ],
             [
              0.6666666666666666,
              "#ed7953"
             ],
             [
              0.7777777777777778,
              "#fb9f3a"
             ],
             [
              0.8888888888888888,
              "#fdca26"
             ],
             [
              1,
              "#f0f921"
             ]
            ],
            "type": "histogram2dcontour"
           }
          ],
          "mesh3d": [
           {
            "colorbar": {
             "outlinewidth": 0,
             "ticks": ""
            },
            "type": "mesh3d"
           }
          ],
          "parcoords": [
           {
            "line": {
             "colorbar": {
              "outlinewidth": 0,
              "ticks": ""
             }
            },
            "type": "parcoords"
           }
          ],
          "pie": [
           {
            "automargin": true,
            "type": "pie"
           }
          ],
          "scatter": [
           {
            "marker": {
             "colorbar": {
              "outlinewidth": 0,
              "ticks": ""
             }
            },
            "type": "scatter"
           }
          ],
          "scatter3d": [
           {
            "line": {
             "colorbar": {
              "outlinewidth": 0,
              "ticks": ""
             }
            },
            "marker": {
             "colorbar": {
              "outlinewidth": 0,
              "ticks": ""
             }
            },
            "type": "scatter3d"
           }
          ],
          "scattercarpet": [
           {
            "marker": {
             "colorbar": {
              "outlinewidth": 0,
              "ticks": ""
             }
            },
            "type": "scattercarpet"
           }
          ],
          "scattergeo": [
           {
            "marker": {
             "colorbar": {
              "outlinewidth": 0,
              "ticks": ""
             }
            },
            "type": "scattergeo"
           }
          ],
          "scattergl": [
           {
            "marker": {
             "colorbar": {
              "outlinewidth": 0,
              "ticks": ""
             }
            },
            "type": "scattergl"
           }
          ],
          "scattermapbox": [
           {
            "marker": {
             "colorbar": {
              "outlinewidth": 0,
              "ticks": ""
             }
            },
            "type": "scattermapbox"
           }
          ],
          "scatterpolar": [
           {
            "marker": {
             "colorbar": {
              "outlinewidth": 0,
              "ticks": ""
             }
            },
            "type": "scatterpolar"
           }
          ],
          "scatterpolargl": [
           {
            "marker": {
             "colorbar": {
              "outlinewidth": 0,
              "ticks": ""
             }
            },
            "type": "scatterpolargl"
           }
          ],
          "scatterternary": [
           {
            "marker": {
             "colorbar": {
              "outlinewidth": 0,
              "ticks": ""
             }
            },
            "type": "scatterternary"
           }
          ],
          "surface": [
           {
            "colorbar": {
             "outlinewidth": 0,
             "ticks": ""
            },
            "colorscale": [
             [
              0,
              "#0d0887"
             ],
             [
              0.1111111111111111,
              "#46039f"
             ],
             [
              0.2222222222222222,
              "#7201a8"
             ],
             [
              0.3333333333333333,
              "#9c179e"
             ],
             [
              0.4444444444444444,
              "#bd3786"
             ],
             [
              0.5555555555555556,
              "#d8576b"
             ],
             [
              0.6666666666666666,
              "#ed7953"
             ],
             [
              0.7777777777777778,
              "#fb9f3a"
             ],
             [
              0.8888888888888888,
              "#fdca26"
             ],
             [
              1,
              "#f0f921"
             ]
            ],
            "type": "surface"
           }
          ],
          "table": [
           {
            "cells": {
             "fill": {
              "color": "#EBF0F8"
             },
             "line": {
              "color": "white"
             }
            },
            "header": {
             "fill": {
              "color": "#C8D4E3"
             },
             "line": {
              "color": "white"
             }
            },
            "type": "table"
           }
          ]
         },
         "layout": {
          "annotationdefaults": {
           "arrowcolor": "#2a3f5f",
           "arrowhead": 0,
           "arrowwidth": 1
          },
          "autotypenumbers": "strict",
          "coloraxis": {
           "colorbar": {
            "outlinewidth": 0,
            "ticks": ""
           }
          },
          "colorscale": {
           "diverging": [
            [
             0,
             "#8e0152"
            ],
            [
             0.1,
             "#c51b7d"
            ],
            [
             0.2,
             "#de77ae"
            ],
            [
             0.3,
             "#f1b6da"
            ],
            [
             0.4,
             "#fde0ef"
            ],
            [
             0.5,
             "#f7f7f7"
            ],
            [
             0.6,
             "#e6f5d0"
            ],
            [
             0.7,
             "#b8e186"
            ],
            [
             0.8,
             "#7fbc41"
            ],
            [
             0.9,
             "#4d9221"
            ],
            [
             1,
             "#276419"
            ]
           ],
           "sequential": [
            [
             0,
             "#0d0887"
            ],
            [
             0.1111111111111111,
             "#46039f"
            ],
            [
             0.2222222222222222,
             "#7201a8"
            ],
            [
             0.3333333333333333,
             "#9c179e"
            ],
            [
             0.4444444444444444,
             "#bd3786"
            ],
            [
             0.5555555555555556,
             "#d8576b"
            ],
            [
             0.6666666666666666,
             "#ed7953"
            ],
            [
             0.7777777777777778,
             "#fb9f3a"
            ],
            [
             0.8888888888888888,
             "#fdca26"
            ],
            [
             1,
             "#f0f921"
            ]
           ],
           "sequentialminus": [
            [
             0,
             "#0d0887"
            ],
            [
             0.1111111111111111,
             "#46039f"
            ],
            [
             0.2222222222222222,
             "#7201a8"
            ],
            [
             0.3333333333333333,
             "#9c179e"
            ],
            [
             0.4444444444444444,
             "#bd3786"
            ],
            [
             0.5555555555555556,
             "#d8576b"
            ],
            [
             0.6666666666666666,
             "#ed7953"
            ],
            [
             0.7777777777777778,
             "#fb9f3a"
            ],
            [
             0.8888888888888888,
             "#fdca26"
            ],
            [
             1,
             "#f0f921"
            ]
           ]
          },
          "colorway": [
           "#636efa",
           "#EF553B",
           "#00cc96",
           "#ab63fa",
           "#FFA15A",
           "#19d3f3",
           "#FF6692",
           "#B6E880",
           "#FF97FF",
           "#FECB52"
          ],
          "font": {
           "color": "#2a3f5f"
          },
          "geo": {
           "bgcolor": "white",
           "lakecolor": "white",
           "landcolor": "#E5ECF6",
           "showlakes": true,
           "showland": true,
           "subunitcolor": "white"
          },
          "hoverlabel": {
           "align": "left"
          },
          "hovermode": "closest",
          "mapbox": {
           "style": "light"
          },
          "paper_bgcolor": "white",
          "plot_bgcolor": "#E5ECF6",
          "polar": {
           "angularaxis": {
            "gridcolor": "white",
            "linecolor": "white",
            "ticks": ""
           },
           "bgcolor": "#E5ECF6",
           "radialaxis": {
            "gridcolor": "white",
            "linecolor": "white",
            "ticks": ""
           }
          },
          "scene": {
           "xaxis": {
            "backgroundcolor": "#E5ECF6",
            "gridcolor": "white",
            "gridwidth": 2,
            "linecolor": "white",
            "showbackground": true,
            "ticks": "",
            "zerolinecolor": "white"
           },
           "yaxis": {
            "backgroundcolor": "#E5ECF6",
            "gridcolor": "white",
            "gridwidth": 2,
            "linecolor": "white",
            "showbackground": true,
            "ticks": "",
            "zerolinecolor": "white"
           },
           "zaxis": {
            "backgroundcolor": "#E5ECF6",
            "gridcolor": "white",
            "gridwidth": 2,
            "linecolor": "white",
            "showbackground": true,
            "ticks": "",
            "zerolinecolor": "white"
           }
          },
          "shapedefaults": {
           "line": {
            "color": "#2a3f5f"
           }
          },
          "ternary": {
           "aaxis": {
            "gridcolor": "white",
            "linecolor": "white",
            "ticks": ""
           },
           "baxis": {
            "gridcolor": "white",
            "linecolor": "white",
            "ticks": ""
           },
           "bgcolor": "#E5ECF6",
           "caxis": {
            "gridcolor": "white",
            "linecolor": "white",
            "ticks": ""
           }
          },
          "title": {
           "x": 0.05
          },
          "xaxis": {
           "automargin": true,
           "gridcolor": "white",
           "linecolor": "white",
           "ticks": "",
           "title": {
            "standoff": 15
           },
           "zerolinecolor": "white",
           "zerolinewidth": 2
          },
          "yaxis": {
           "automargin": true,
           "gridcolor": "white",
           "linecolor": "white",
           "ticks": "",
           "title": {
            "standoff": 15
           },
           "zerolinecolor": "white",
           "zerolinewidth": 2
          }
         }
        },
        "xaxis": {
         "anchor": "y",
         "autorange": true,
         "domain": [
          0,
          1
         ],
         "range": [
          2001,
          2020
         ],
         "title": {
          "text": "year"
         },
         "type": "linear"
        },
        "yaxis": {
         "anchor": "x",
         "autorange": true,
         "domain": [
          0,
          1
         ],
         "range": [
          0.5662907910473262,
          1.1420638988552878
         ],
         "title": {
          "text": "value"
         },
         "type": "linear"
        }
       }
      },
      "image/png": "[encoded data removed]",
      "text/html": [
       "<div>                            <div id=\"6543bc8f-490e-4d18-b9cc-e599834b111d\" class=\"plotly-graph-div\" style=\"height:525px; width:100%;\"></div>            <script type=\"text/javascript\">                require([\"plotly\"], function(Plotly) {                    window.PLOTLYENV=window.PLOTLYENV || {};                                    if (document.getElementById(\"6543bc8f-490e-4d18-b9cc-e599834b111d\")) {                    Plotly.newPlot(                        \"6543bc8f-490e-4d18-b9cc-e599834b111d\",                        [{\"hovertemplate\":\"measure_data_type=Transportation equipment manufacturing<br>year=%{x}<br>value=%{y}<extra></extra>\",\"legendgroup\":\"Transportation equipment manufacturing\",\"line\":{\"color\":\"#636efa\",\"dash\":\"solid\"},\"marker\":{\"symbol\":\"circle\"},\"mode\":\"lines\",\"name\":\"Transportation equipment manufacturing\",\"orientation\":\"v\",\"showlegend\":true,\"x\":[2020,2019,2018,2017,2016,2015,2014,2013,2012,2011,2010,2009,2008,2007,2006,2005,2004],\"xaxis\":\"x\",\"y\":[1.0,0.994413407821229,0.9840383080606544,0.9704708699122107,0.9592976855546689,0.9521149241819633,0.9385474860335196,0.9257781324820431,0.9162011173184358,0.8962490023942538,0.8810853950518756,0.87390263367917,0.8563447725458898,0.8371907422186753,0.8236233040702314,0.8180367118914605,0.8052673583399841],\"yaxis\":\"y\",\"type\":\"scatter\"},{\"hovertemplate\":\"measure_data_type=Aerospace product and parts manufacturing<br>year=%{x}<br>value=%{y}<extra></extra>\",\"legendgroup\":\"Aerospace product and parts manufacturing\",\"line\":{\"color\":\"#EF553B\",\"dash\":\"solid\"},\"marker\":{\"symbol\":\"circle\"},\"mode\":\"lines\",\"name\":\"Aerospace product and parts manufacturing\",\"orientation\":\"v\",\"showlegend\":true,\"x\":[2020,2019,2018,2017,2016,2015,2014,2013,2012,2011,2010,2009,2008,2007,2006,2005,2004,2003,2002,2001],\"xaxis\":\"x\",\"y\":[1.0,0.9851729818780889,0.9662273476112025,0.9489291598023064,0.9386326194398682,0.9242174629324547,0.9163920922570016,0.9023887973640856,0.8883855024711697,0.8682042833607908,0.8377265238879736,0.8261943986820428,0.8080724876441515,0.7767710049423393,0.7528830313014827,0.7248764415156507,0.6919275123558484,0.6680395387149917,0.6478583196046128,0.637149917627677],\"yaxis\":\"y\",\"type\":\"scatter\"},{\"hovertemplate\":\"measure_data_type=Ship and boat building<br>year=%{x}<br>value=%{y}<extra></extra>\",\"legendgroup\":\"Ship and boat building\",\"line\":{\"color\":\"#00cc96\",\"dash\":\"solid\"},\"marker\":{\"symbol\":\"circle\"},\"mode\":\"lines\",\"name\":\"Ship and boat building\",\"orientation\":\"v\",\"showlegend\":true,\"x\":[2020,2019,2018,2017,2016,2015,2014,2013,2012,2011,2010,2009,2008,2007,2006,2005,2004,2003,2002,2001],\"xaxis\":\"x\",\"y\":[1.0,0.9831649831649831,0.9633838383838385,0.946969696969697,0.9360269360269361,0.9276094276094277,0.9095117845117845,0.8918350168350169,0.8817340067340067,0.8699494949494949,0.8543771043771043,0.8383838383838383,0.8156565656565657,0.7925084175084176,0.7634680134680135,0.7365319865319866,0.7138047138047138,0.6860269360269361,0.65993265993266,0.6422558922558923],\"yaxis\":\"y\",\"type\":\"scatter\"},{\"hovertemplate\":\"measure_data_type=Ship building and repairing<br>year=%{x}<br>value=%{y}<extra></extra>\",\"legendgroup\":\"Ship building and repairing\",\"line\":{\"color\":\"#ab63fa\",\"dash\":\"solid\"},\"marker\":{\"symbol\":\"circle\"},\"mode\":\"lines\",\"name\":\"Ship building and repairing\",\"orientation\":\"v\",\"showlegend\":true,\"x\":[2020,2019,2018,2017,2016,2015,2014,2013,2012,2011,2010,2009,2008,2007,2006,2005,2004,2003,2002,2001],\"xaxis\":\"x\",\"y\":[1.0,0.9873595505617978,0.9719101123595506,0.9616104868913858,0.9569288389513109,0.9545880149812734,0.9372659176029963,0.920880149812734,0.9194756554307116,0.9129213483146068,0.8946629213483146,0.8773408239700375,0.850187265917603,0.8286516853932584,0.7954119850187267,0.7673220973782772,0.7481273408239701,0.7102059925093632,0.674625468164794,0.6558988764044944],\"yaxis\":\"y\",\"type\":\"scatter\"},{\"hovertemplate\":\"measure_data_type=Primary metal mfg<br>year=%{x}<br>value=%{y}<extra></extra>\",\"legendgroup\":\"Primary metal mfg\",\"line\":{\"color\":\"#FFA15A\",\"dash\":\"solid\"},\"marker\":{\"symbol\":\"circle\"},\"mode\":\"lines\",\"name\":\"Primary metal mfg\",\"orientation\":\"v\",\"showlegend\":true,\"x\":[2020,2019,2018,2017,2016,2015,2014,2013,2012,2011,2010,2009,2008,2007,2006,2005,2004,2003,2002,2001],\"xaxis\":\"x\",\"y\":[1.0,1.0594566888774988,1.0840594566888775,0.9810353664787289,0.8980010251153254,0.9431060994361866,1.0302409021014864,1.018452075858534,1.0640697078421322,1.1132752434648898,1.0051255766273706,0.8841619682214249,1.0861096873398257,0.9764223475140954,0.919015889287545,0.8011276268580216,0.7319323423885188,0.6068682726806767,0.5955920041004613,0.5950794464377243],\"yaxis\":\"y\",\"type\":\"scatter\"}],                        {\"template\":{\"data\":{\"bar\":[{\"error_x\":{\"color\":\"#2a3f5f\"},\"error_y\":{\"color\":\"#2a3f5f\"},\"marker\":{\"line\":{\"color\":\"#E5ECF6\",\"width\":0.5},\"pattern\":{\"fillmode\":\"overlay\",\"size\":10,\"solidity\":0.2}},\"type\":\"bar\"}],\"barpolar\":[{\"marker\":{\"line\":{\"color\":\"#E5ECF6\",\"width\":0.5},\"pattern\":{\"fillmode\":\"overlay\",\"size\":10,\"solidity\":0.2}},\"type\":\"barpolar\"}],\"carpet\":[{\"aaxis\":{\"endlinecolor\":\"#2a3f5f\",\"gridcolor\":\"white\",\"linecolor\":\"white\",\"minorgridcolor\":\"white\",\"startlinecolor\":\"#2a3f5f\"},\"baxis\":{\"endlinecolor\":\"#2a3f5f\",\"gridcolor\":\"white\",\"linecolor\":\"white\",\"minorgridcolor\":\"white\",\"startlinecolor\":\"#2a3f5f\"},\"type\":\"carpet\"}],\"choropleth\":[{\"colorbar\":{\"outlinewidth\":0,\"ticks\":\"\"},\"type\":\"choropleth\"}],\"contour\":[{\"colorbar\":{\"outlinewidth\":0,\"ticks\":\"\"},\"colorscale\":[[0.0,\"#0d0887\"],[0.1111111111111111,\"#46039f\"],[0.2222222222222222,\"#7201a8\"],[0.3333333333333333,\"#9c179e\"],[0.4444444444444444,\"#bd3786\"],[0.5555555555555556,\"#d8576b\"],[0.6666666666666666,\"#ed7953\"],[0.7777777777777778,\"#fb9f3a\"],[0.8888888888888888,\"#fdca26\"],[1.0,\"#f0f921\"]],\"type\":\"contour\"}],\"contourcarpet\":[{\"colorbar\":{\"outlinewidth\":0,\"ticks\":\"\"},\"type\":\"contourcarpet\"}],\"heatmap\":[{\"colorbar\":{\"outlinewidth\":0,\"ticks\":\"\"},\"colorscale\":[[0.0,\"#0d0887\"],[0.1111111111111111,\"#46039f\"],[0.2222222222222222,\"#7201a8\"],[0.3333333333333333,\"#9c179e\"],[0.4444444444444444,\"#bd3786\"],[0.5555555555555556,\"#d8576b\"],[0.6666666666666666,\"#ed7953\"],[0.7777777777777778,\"#fb9f3a\"],[0.8888888888888888,\"#fdca26\"],[1.0,\"#f0f921\"]],\"type\":\"heatmap\"}],\"heatmapgl\":[{\"colorbar\":{\"outlinewidth\":0,\"ticks\":\"\"},\"colorscale\":[[0.0,\"#0d0887\"],[0.1111111111111111,\"#46039f\"],[0.2222222222222222,\"#7201a8\"],[0.3333333333333333,\"#9c179e\"],[0.4444444444444444,\"#bd3786\"],[0.5555555555555556,\"#d8576b\"],[0.6666666666666666,\"#ed7953\"],[0.7777777777777778,\"#fb9f3a\"],[0.8888888888888888,\"#fdca26\"],[1.0,\"#f0f921\"]],\"type\":\"heatmapgl\"}],\"histogram\":[{\"marker\":{\"pattern\":{\"fillmode\":\"overlay\",\"size\":10,\"solidity\":0.2}},\"type\":\"histogram\"}],\"histogram2d\":[{\"colorbar\":{\"outlinewidth\":0,\"ticks\":\"\"},\"colorscale\":[[0.0,\"#0d0887\"],[0.1111111111111111,\"#46039f\"],[0.2222222222222222,\"#7201a8\"],[0.3333333333333333,\"#9c179e\"],[0.4444444444444444,\"#bd3786\"],[0.5555555555555556,\"#d8576b\"],[0.6666666666666666,\"#ed7953\"],[0.7777777777777778,\"#fb9f3a\"],[0.8888888888888888,\"#fdca26\"],[1.0,\"#f0f921\"]],\"type\":\"histogram2d\"}],\"histogram2dcontour\":[{\"colorbar\":{\"outlinewidth\":0,\"ticks\":\"\"},\"colorscale\":[[0.0,\"#0d0887\"],[0.1111111111111111,\"#46039f\"],[0.2222222222222222,\"#7201a8\"],[0.3333333333333333,\"#9c179e\"],[0.4444444444444444,\"#bd3786\"],[0.5555555555555556,\"#d8576b\"],[0.6666666666666666,\"#ed7953\"],[0.7777777777777778,\"#fb9f3a\"],[0.8888888888888888,\"#fdca26\"],[1.0,\"#f0f921\"]],\"type\":\"histogram2dcontour\"}],\"mesh3d\":[{\"colorbar\":{\"outlinewidth\":0,\"ticks\":\"\"},\"type\":\"mesh3d\"}],\"parcoords\":[{\"line\":{\"colorbar\":{\"outlinewidth\":0,\"ticks\":\"\"}},\"type\":\"parcoords\"}],\"pie\":[{\"automargin\":true,\"type\":\"pie\"}],\"scatter\":[{\"marker\":{\"colorbar\":{\"outlinewidth\":0,\"ticks\":\"\"}},\"type\":\"scatter\"}],\"scatter3d\":[{\"line\":{\"colorbar\":{\"outlinewidth\":0,\"ticks\":\"\"}},\"marker\":{\"colorbar\":{\"outlinewidth\":0,\"ticks\":\"\"}},\"type\":\"scatter3d\"}],\"scattercarpet\":[{\"marker\":{\"colorbar\":{\"outlinewidth\":0,\"ticks\":\"\"}},\"type\":\"scattercarpet\"}],\"scattergeo\":[{\"marker\":{\"colorbar\":{\"outlinewidth\":0,\"ticks\":\"\"}},\"type\":\"scattergeo\"}],\"scattergl\":[{\"marker\":{\"colorbar\":{\"outlinewidth\":0,\"ticks\":\"\"}},\"type\":\"scattergl\"}],\"scattermapbox\":[{\"marker\":{\"colorbar\":{\"outlinewidth\":0,\"ticks\":\"\"}},\"type\":\"scattermapbox\"}],\"scatterpolar\":[{\"marker\":{\"colorbar\":{\"outlinewidth\":0,\"ticks\":\"\"}},\"type\":\"scatterpolar\"}],\"scatterpolargl\":[{\"marker\":{\"colorbar\":{\"outlinewidth\":0,\"ticks\":\"\"}},\"type\":\"scatterpolargl\"}],\"scatterternary\":[{\"marker\":{\"colorbar\":{\"outlinewidth\":0,\"ticks\":\"\"}},\"type\":\"scatterternary\"}],\"surface\":[{\"colorbar\":{\"outlinewidth\":0,\"ticks\":\"\"},\"colorscale\":[[0.0,\"#0d0887\"],[0.1111111111111111,\"#46039f\"],[0.2222222222222222,\"#7201a8\"],[0.3333333333333333,\"#9c179e\"],[0.4444444444444444,\"#bd3786\"],[0.5555555555555556,\"#d8576b\"],[0.6666666666666666,\"#ed7953\"],[0.7777777777777778,\"#fb9f3a\"],[0.8888888888888888,\"#fdca26\"],[1.0,\"#f0f921\"]],\"type\":\"surface\"}],\"table\":[{\"cells\":{\"fill\":{\"color\":\"#EBF0F8\"},\"line\":{\"color\":\"white\"}},\"header\":{\"fill\":{\"color\":\"#C8D4E3\"},\"line\":{\"color\":\"white\"}},\"type\":\"table\"}]},\"layout\":{\"annotationdefaults\":{\"arrowcolor\":\"#2a3f5f\",\"arrowhead\":0,\"arrowwidth\":1},\"autotypenumbers\":\"strict\",\"coloraxis\":{\"colorbar\":{\"outlinewidth\":0,\"ticks\":\"\"}},\"colorscale\":{\"diverging\":[[0,\"#8e0152\"],[0.1,\"#c51b7d\"],[0.2,\"#de77ae\"],[0.3,\"#f1b6da\"],[0.4,\"#fde0ef\"],[0.5,\"#f7f7f7\"],[0.6,\"#e6f5d0\"],[0.7,\"#b8e186\"],[0.8,\"#7fbc41\"],[0.9,\"#4d9221\"],[1,\"#276419\"]],\"sequential\":[[0.0,\"#0d0887\"],[0.1111111111111111,\"#46039f\"],[0.2222222222222222,\"#7201a8\"],[0.3333333333333333,\"#9c179e\"],[0.4444444444444444,\"#bd3786\"],[0.5555555555555556,\"#d8576b\"],[0.6666666666666666,\"#ed7953\"],[0.7777777777777778,\"#fb9f3a\"],[0.8888888888888888,\"#fdca26\"],[1.0,\"#f0f921\"]],\"sequentialminus\":[[0.0,\"#0d0887\"],[0.1111111111111111,\"#46039f\"],[0.2222222222222222,\"#7201a8\"],[0.3333333333333333,\"#9c179e\"],[0.4444444444444444,\"#bd3786\"],[0.5555555555555556,\"#d8576b\"],[0.6666666666666666,\"#ed7953\"],[0.7777777777777778,\"#fb9f3a\"],[0.8888888888888888,\"#fdca26\"],[1.0,\"#f0f921\"]]},\"colorway\":[\"#636efa\",\"#EF553B\",\"#00cc96\",\"#ab63fa\",\"#FFA15A\",\"#19d3f3\",\"#FF6692\",\"#B6E880\",\"#FF97FF\",\"#FECB52\"],\"font\":{\"color\":\"#2a3f5f\"},\"geo\":{\"bgcolor\":\"white\",\"lakecolor\":\"white\",\"landcolor\":\"#E5ECF6\",\"showlakes\":true,\"showland\":true,\"subunitcolor\":\"white\"},\"hoverlabel\":{\"align\":\"left\"},\"hovermode\":\"closest\",\"mapbox\":{\"style\":\"light\"},\"paper_bgcolor\":\"white\",\"plot_bgcolor\":\"#E5ECF6\",\"polar\":{\"angularaxis\":{\"gridcolor\":\"white\",\"linecolor\":\"white\",\"ticks\":\"\"},\"bgcolor\":\"#E5ECF6\",\"radialaxis\":{\"gridcolor\":\"white\",\"linecolor\":\"white\",\"ticks\":\"\"}},\"scene\":{\"xaxis\":{\"backgroundcolor\":\"#E5ECF6\",\"gridcolor\":\"white\",\"gridwidth\":2,\"linecolor\":\"white\",\"showbackground\":true,\"ticks\":\"\",\"zerolinecolor\":\"white\"},\"yaxis\":{\"backgroundcolor\":\"#E5ECF6\",\"gridcolor\":\"white\",\"gridwidth\":2,\"linecolor\":\"white\",\"showbackground\":true,\"ticks\":\"\",\"zerolinecolor\":\"white\"},\"zaxis\":{\"backgroundcolor\":\"#E5ECF6\",\"gridcolor\":\"white\",\"gridwidth\":2,\"linecolor\":\"white\",\"showbackground\":true,\"ticks\":\"\",\"zerolinecolor\":\"white\"}},\"shapedefaults\":{\"line\":{\"color\":\"#2a3f5f\"}},\"ternary\":{\"aaxis\":{\"gridcolor\":\"white\",\"linecolor\":\"white\",\"ticks\":\"\"},\"baxis\":{\"gridcolor\":\"white\",\"linecolor\":\"white\",\"ticks\":\"\"},\"bgcolor\":\"#E5ECF6\",\"caxis\":{\"gridcolor\":\"white\",\"linecolor\":\"white\",\"ticks\":\"\"}},\"title\":{\"x\":0.05},\"xaxis\":{\"automargin\":true,\"gridcolor\":\"white\",\"linecolor\":\"white\",\"ticks\":\"\",\"title\":{\"standoff\":15},\"zerolinecolor\":\"white\",\"zerolinewidth\":2},\"yaxis\":{\"automargin\":true,\"gridcolor\":\"white\",\"linecolor\":\"white\",\"ticks\":\"\",\"title\":{\"standoff\":15},\"zerolinecolor\":\"white\",\"zerolinewidth\":2}}},\"xaxis\":{\"anchor\":\"y\",\"domain\":[0.0,1.0],\"title\":{\"text\":\"year\"}},\"yaxis\":{\"anchor\":\"x\",\"domain\":[0.0,1.0],\"title\":{\"text\":\"value\"}},\"legend\":{\"title\":{\"text\":\"measure_data_type\"},\"tracegroupgap\":0},\"margin\":{\"t\":60}},                        {\"responsive\": true}                    ).then(function(){\n",
       "                            \n",
       "var gd = document.getElementById('6543bc8f-490e-4d18-b9cc-e599834b111d');\n",
       "var x = new MutationObserver(function (mutations, observer) {{\n",
       "        var display = window.getComputedStyle(gd).display;\n",
       "        if (!display || display === 'none') {{\n",
       "            console.log([gd, 'removed!']);\n",
       "            Plotly.purge(gd);\n",
       "            observer.disconnect();\n",
       "        }}\n",
       "}});\n",
       "\n",
       "// Listen for the removal of the full notebook cells\n",
       "var notebookContainer = gd.closest('#notebook-container');\n",
       "if (notebookContainer) {{\n",
       "    x.observe(notebookContainer, {childList: true});\n",
       "}}\n",
       "\n",
       "// Listen for the clearing of the current output cell\n",
       "var outputEl = gd.closest('.output');\n",
       "if (outputEl) {{\n",
       "    x.observe(outputEl, {childList: true});\n",
       "}}\n",
       "\n",
       "                        })                };                });            </script>        </div>"
      ]
     },
     "metadata": {},
     "output_type": "display_data"
    }
   ],
   "source": [
    "fig = bls.assign(year=lambda x: x.year.map(int), value = lambda x: x.value.map(float)).plot(x='year', y ='value', color ='measure_data_type')\n",
    "fig.show()"
   ]
  },
  {
   "cell_type": "code",
   "execution_count": null,
   "id": "d5fe70fb-6521-47e2-aa55-c8b8e866b188",
   "metadata": {},
   "outputs": [
    {
     "data": {
      "text/html": [
       "<div>\n",
       "<style scoped>\n",
       "    .dataframe tbody tr th:only-of-type {\n",
       "        vertical-align: middle;\n",
       "    }\n",
       "\n",
       "    .dataframe tbody tr th {\n",
       "        vertical-align: top;\n",
       "    }\n",
       "\n",
       "    .dataframe thead th {\n",
       "        text-align: right;\n",
       "    }\n",
       "</style>\n",
       "<table border=\"1\" class=\"dataframe\">\n",
       "  <thead>\n",
       "    <tr style=\"text-align: right;\">\n",
       "      <th></th>\n",
       "      <th>survey_abbreviation</th>\n",
       "      <th>survey_name</th>\n",
       "    </tr>\n",
       "  </thead>\n",
       "  <tbody>\n",
       "    <tr>\n",
       "      <th>0</th>\n",
       "      <td>AP</td>\n",
       "      <td>Consumer Price Index - Average Price Data</td>\n",
       "    </tr>\n",
       "    <tr>\n",
       "      <th>12</th>\n",
       "      <td>CU</td>\n",
       "      <td>Consumer Price Index - All Urban Consumers</td>\n",
       "    </tr>\n",
       "    <tr>\n",
       "      <th>13</th>\n",
       "      <td>CW</td>\n",
       "      <td>Consumer Price Index - Urban Wage Earners and ...</td>\n",
       "    </tr>\n",
       "    <tr>\n",
       "      <th>14</th>\n",
       "      <td>CX</td>\n",
       "      <td>Consumer Expenditure Survey</td>\n",
       "    </tr>\n",
       "    <tr>\n",
       "      <th>38</th>\n",
       "      <td>LI</td>\n",
       "      <td>Consumer Price Index - Department Store Invent...</td>\n",
       "    </tr>\n",
       "    <tr>\n",
       "      <th>43</th>\n",
       "      <td>MU</td>\n",
       "      <td>Consumer Price Index - All Urban Consumers (Ol...</td>\n",
       "    </tr>\n",
       "    <tr>\n",
       "      <th>44</th>\n",
       "      <td>MW</td>\n",
       "      <td>Consumer Price Index - Urban Wage Earners and ...</td>\n",
       "    </tr>\n",
       "    <tr>\n",
       "      <th>60</th>\n",
       "      <td>SU</td>\n",
       "      <td>Consumer Price Index - Chained Consumer Price ...</td>\n",
       "    </tr>\n",
       "  </tbody>\n",
       "</table>\n",
       "</div>"
      ],
      "text/plain": [
       "   survey_abbreviation                                        survey_name\n",
       "0                   AP          Consumer Price Index - Average Price Data\n",
       "12                  CU         Consumer Price Index - All Urban Consumers\n",
       "13                  CW  Consumer Price Index - Urban Wage Earners and ...\n",
       "14                  CX                        Consumer Expenditure Survey\n",
       "38                  LI  Consumer Price Index - Department Store Invent...\n",
       "43                  MU  Consumer Price Index - All Urban Consumers (Ol...\n",
       "44                  MW  Consumer Price Index - Urban Wage Earners and ...\n",
       "60                  SU  Consumer Price Index - Chained Consumer Price ..."
      ]
     },
     "execution_count": null,
     "metadata": {},
     "output_type": "execute_result"
    }
   ],
   "source": [
    "surveys = bls_surveys()\n",
    "surveys.loc[surveys.survey_name.str.contains(\"Consumer\")]"
   ]
  },
  {
   "cell_type": "code",
   "execution_count": null,
   "id": "fda23ea4-deec-4a10-b506-f31b5e0b37f0",
   "metadata": {},
   "outputs": [
    {
     "data": {
      "text/html": [
       "<div>\n",
       "<style scoped>\n",
       "    .dataframe tbody tr th:only-of-type {\n",
       "        vertical-align: middle;\n",
       "    }\n",
       "\n",
       "    .dataframe tbody tr th {\n",
       "        vertical-align: top;\n",
       "    }\n",
       "\n",
       "    .dataframe thead th {\n",
       "        text-align: right;\n",
       "    }\n",
       "</style>\n",
       "<table border=\"1\" class=\"dataframe\">\n",
       "  <thead>\n",
       "    <tr style=\"text-align: right;\">\n",
       "      <th></th>\n",
       "      <th>survey_abbreviation</th>\n",
       "      <th>survey_name</th>\n",
       "    </tr>\n",
       "  </thead>\n",
       "  <tbody>\n",
       "    <tr>\n",
       "      <th>0</th>\n",
       "      <td>AP</td>\n",
       "      <td>Consumer Price Index - Average Price Data</td>\n",
       "    </tr>\n",
       "    <tr>\n",
       "      <th>51</th>\n",
       "      <td>PC</td>\n",
       "      <td>Producer Price Index Industry Data</td>\n",
       "    </tr>\n",
       "    <tr>\n",
       "      <th>64</th>\n",
       "      <td>WP</td>\n",
       "      <td>Producer Price Index-Commodities</td>\n",
       "    </tr>\n",
       "  </tbody>\n",
       "</table>\n",
       "</div>"
      ],
      "text/plain": [
       "   survey_abbreviation                                survey_name\n",
       "0                   AP  Consumer Price Index - Average Price Data\n",
       "51                  PC         Producer Price Index Industry Data\n",
       "64                  WP           Producer Price Index-Commodities"
      ]
     },
     "execution_count": null,
     "metadata": {},
     "output_type": "execute_result"
    }
   ],
   "source": [
    "surveys.query(\"survey_abbreviation in ('PC','WP', 'AP')\")"
   ]
  },
  {
   "cell_type": "code",
   "execution_count": null,
   "id": "dbcb1ea0-e17f-400d-9f79-ac06cb98d791",
   "metadata": {},
   "outputs": [],
   "source": []
  }
 ],
 "metadata": {
  "kernelspec": {
   "display_name": "Python 3",
   "language": "python",
   "name": "python3"
  }
 },
 "nbformat": 4,
 "nbformat_minor": 5
}
