{
 "cells": [
  {
   "cell_type": "markdown",
   "id": "844b4139-9247-4a65-aaf6-23ab503fb8c4",
   "metadata": {},
   "source": [
    "# Inflation and Escalation using (BLS)\n",
    "- link PPI codes (for Commodities)\n",
    "    - Overview: https://www.bls.gov/ppi/overview.htm\n",
    "    - inudstry: https://download.bls.gov/pub/time.series/pc/pc.industry\n",
    "    - products: https://download.bls.gov/pub/time.series/pc/pc.product\n",
    "    - construct code: https://www.bls.gov/help/hlpforma.htm#WP\n",
    "    - group codes: https://download.bls.gov/pub/time.series/wd/wd.group\n",
    "    - item codes: https://download.bls.gov/pub/time.series/wd/wd.item\n"
   ]
  },
  {
   "cell_type": "code",
   "execution_count": null,
   "id": "a31c3ede-97f0-43e8-bfef-840947835be4",
   "metadata": {},
   "outputs": [],
   "source": [
    "import pandas as pd\n",
    "import requests\n",
    "import json\n",
    "pd.options.plotting.backend=\"plotly\"\n",
    "\n",
    "# link PPI codes (for Commodities)\n",
    "    # Overview: https://www.bls.gov/ppi/overview.htm\n",
    "    # inudstry: https://download.bls.gov/pub/time.series/pc/pc.industry\n",
    "    # products: https://download.bls.gov/pub/time.series/pc/pc.product\n",
    "    # construct code: https://www.bls.gov/help/hlpforma.htm#WP\n",
    "    # group codes: https://download.bls.gov/pub/time.series/wd/wd.group\n",
    "    # item codes: https://download.bls.gov/pub/time.series/wd/wd.item\n",
    "key = 'f735c845833c4374b10b252cecc0d1da'\n",
    "cpi  = \"APU000070111\"\n",
    "bls_ids_commodity = [\"WPU14\",\"WPU142\",\"WPU141\",\"WPU14210206\",\"WPU142104\" ]\n",
    "bls_ids = [\"PCU336---336---\",\"PCU3364--3364--\",\"PCU3366--3366--\", \"PCU336611336611\", \"PCU331---331---\" ]\n",
    "def bls_formatted_data(seriesid=bls_ids,startyear=2011, endyear=2014, key=key):\n",
    "    data = bls_search(seriesid, startyear,endyear)\n",
    "    if data['status'] ==\"REQUEST_SUCCEEDED\":\n",
    "        return bls_format(data)\n",
    "    else:\n",
    "        return data\n",
    "\n",
    "\n",
    "def bls_surveys():\n",
    "    p = requests.post('https://api.bls.gov/publicAPI/v2/surveys')#, data=data, headers=headers)#,annualaverage=True, registrationkey=key)\n",
    "    json_data = json.loads(p.text)\n",
    "    #df = pd.DataFrame(json_data)\n",
    "    df = pd.DataFrame()    \n",
    "    for survey in json_data['Results']['survey']:\n",
    "        tmp = {key: [item] for key, item in survey.items()}\n",
    "        df= df.append(pd.DataFrame(tmp), ignore_index=True)\n",
    "    \n",
    "    return df\n",
    "def bls_search(seriesid=bls_ids,startyear=2001, endyear=2021, key=key):\n",
    "    headers = {'Content-type': 'application/json'}\n",
    "    data = json.dumps({\"seriesid\": seriesid,\"startyear\":str(startyear), \"endyear\":str(endyear), \"catalog\":True,\"annualaverage\":True, \"registrationkey\":key})\n",
    "    p = requests.post('https://api.bls.gov/publicAPI/v2/timeseries/data/', data=data, headers=headers)#,annualaverage=True, registrationkey=key)\n",
    "    json_data = json.loads(p.text)\n",
    "    return json_data\n",
    "def bls_format(data):\n",
    "    json_data = data\n",
    "    df = pd.DataFrame()\n",
    "    for series in json_data['Results']['series']:\n",
    "        meta = {key: item for key,item in series['catalog'].items()}\n",
    "        x=pd.DataFrame(series['data']).assign(**meta)\n",
    "        df = df.append(x)\n",
    "    return df\n",
    "def get_bls(seriesid=bls_ids,startyear=1980, endyear=2022, key=key, annual=True, BY = 2020):\n",
    "    if endyear -startyear >15:\n",
    "        print(\"can only get 15 years at a time, attemptig to glue queries together\")\n",
    "        i = 0\n",
    "        tmp = pd.DataFrame()\n",
    "        while startyear + (i * 15) < endyear:\n",
    "            tmp_data = bls_search(seriesid=seriesid,startyear=startyear +(i*15) , endyear=min(endyear, startyear +(i*15) +15) , key=key)\n",
    "            tmp = tmp.append(bls_format(tmp_data))\n",
    "            i=i+1\n",
    "        #print (tmp.year.unique())\n",
    "        df = tmp\n",
    "        \n",
    "    else:                     \n",
    "        data= bls_search(seriesid=seriesid,startyear=startyear, endyear=endyear, key=key)\n",
    "        df = bls_format(data)\n",
    "    if annual:\n",
    "        df = df.query('periodName == \"Annual\"').assign(BY = BY)\n",
    "        by_vals = df.query(f\"year =='{BY}'\")[['series_id', 'value']].assign(BY_VALUE = lambda x: x.value).drop('value', axis=1)\n",
    "        df =df.merge(by_vals, on='series_id', how='left').assign(BY_VALUE = lambda x: x.value.map(float) / x.BY_VALUE.map(float)).reset_index()#.drop_duplicates([['series_id', 'year']])\n",
    "        \n",
    "    else:\n",
    "        df = df.query('periodName != \"Annual\"')\n",
    "    return df\n",
    "    \n",
    "\n"
   ]
  },
  {
   "cell_type": "code",
   "execution_count": null,
   "id": "e0fbc9b8-8d92-415f-b7cb-9e2a7bad926b",
   "metadata": {},
   "outputs": [
    {
     "name": "stdout",
     "output_type": "stream",
     "text": [
      "can only get 15 years at a time, attemptig to glue queries together\n",
      "BaseYear = []\n"
     ]
    },
    {
     "data": {
      "text/html": [
       "<div>\n",
       "<style scoped>\n",
       "    .dataframe tbody tr th:only-of-type {\n",
       "        vertical-align: middle;\n",
       "    }\n",
       "\n",
       "    .dataframe tbody tr th {\n",
       "        vertical-align: top;\n",
       "    }\n",
       "\n",
       "    .dataframe thead th {\n",
       "        text-align: right;\n",
       "    }\n",
       "</style>\n",
       "<table border=\"1\" class=\"dataframe\">\n",
       "  <thead>\n",
       "    <tr style=\"text-align: right;\">\n",
       "      <th></th>\n",
       "      <th>year</th>\n",
       "      <th>1985</th>\n",
       "      <th>1986</th>\n",
       "      <th>1987</th>\n",
       "      <th>1988</th>\n",
       "      <th>1989</th>\n",
       "      <th>1990</th>\n",
       "      <th>1991</th>\n",
       "      <th>1992</th>\n",
       "      <th>1993</th>\n",
       "      <th>1994</th>\n",
       "      <th>...</th>\n",
       "      <th>2012</th>\n",
       "      <th>2013</th>\n",
       "      <th>2014</th>\n",
       "      <th>2015</th>\n",
       "      <th>2016</th>\n",
       "      <th>2017</th>\n",
       "      <th>2018</th>\n",
       "      <th>2019</th>\n",
       "      <th>2020</th>\n",
       "      <th>2021</th>\n",
       "    </tr>\n",
       "    <tr>\n",
       "      <th>measure_data_type</th>\n",
       "      <th>BY</th>\n",
       "      <th></th>\n",
       "      <th></th>\n",
       "      <th></th>\n",
       "      <th></th>\n",
       "      <th></th>\n",
       "      <th></th>\n",
       "      <th></th>\n",
       "      <th></th>\n",
       "      <th></th>\n",
       "      <th></th>\n",
       "      <th></th>\n",
       "      <th></th>\n",
       "      <th></th>\n",
       "      <th></th>\n",
       "      <th></th>\n",
       "      <th></th>\n",
       "      <th></th>\n",
       "      <th></th>\n",
       "      <th></th>\n",
       "      <th></th>\n",
       "      <th></th>\n",
       "    </tr>\n",
       "  </thead>\n",
       "  <tbody>\n",
       "    <tr>\n",
       "      <th>Aerospace product and parts manufacturing</th>\n",
       "      <th>2020</th>\n",
       "      <td>NaN</td>\n",
       "      <td>0.423394</td>\n",
       "      <td>0.423394</td>\n",
       "      <td>0.434514</td>\n",
       "      <td>0.461697</td>\n",
       "      <td>0.484761</td>\n",
       "      <td>0.503707</td>\n",
       "      <td>0.521417</td>\n",
       "      <td>0.535832</td>\n",
       "      <td>0.551895</td>\n",
       "      <td>...</td>\n",
       "      <td>0.888386</td>\n",
       "      <td>0.902389</td>\n",
       "      <td>0.916392</td>\n",
       "      <td>0.924217</td>\n",
       "      <td>0.938633</td>\n",
       "      <td>0.948929</td>\n",
       "      <td>0.966227</td>\n",
       "      <td>0.985173</td>\n",
       "      <td>1.0</td>\n",
       "      <td>1.014518</td>\n",
       "    </tr>\n",
       "    <tr>\n",
       "      <th>Primary metal mfg</th>\n",
       "      <th>2020</th>\n",
       "      <td>0.509482</td>\n",
       "      <td>0.497181</td>\n",
       "      <td>0.517683</td>\n",
       "      <td>0.579190</td>\n",
       "      <td>0.608919</td>\n",
       "      <td>0.597130</td>\n",
       "      <td>0.579703</td>\n",
       "      <td>0.572527</td>\n",
       "      <td>0.570989</td>\n",
       "      <td>0.599692</td>\n",
       "      <td>...</td>\n",
       "      <td>1.064070</td>\n",
       "      <td>1.018452</td>\n",
       "      <td>1.030241</td>\n",
       "      <td>0.943106</td>\n",
       "      <td>0.898001</td>\n",
       "      <td>0.981035</td>\n",
       "      <td>1.084059</td>\n",
       "      <td>1.059457</td>\n",
       "      <td>1.0</td>\n",
       "      <td>1.497437</td>\n",
       "    </tr>\n",
       "    <tr>\n",
       "      <th>Ship and boat building</th>\n",
       "      <th>2020</th>\n",
       "      <td>NaN</td>\n",
       "      <td>0.445707</td>\n",
       "      <td>0.456650</td>\n",
       "      <td>0.467172</td>\n",
       "      <td>0.488215</td>\n",
       "      <td>0.505471</td>\n",
       "      <td>0.516414</td>\n",
       "      <td>0.529040</td>\n",
       "      <td>0.546717</td>\n",
       "      <td>0.559764</td>\n",
       "      <td>...</td>\n",
       "      <td>0.881734</td>\n",
       "      <td>0.891835</td>\n",
       "      <td>0.909512</td>\n",
       "      <td>0.927609</td>\n",
       "      <td>0.936027</td>\n",
       "      <td>0.946970</td>\n",
       "      <td>0.963384</td>\n",
       "      <td>0.983165</td>\n",
       "      <td>1.0</td>\n",
       "      <td>1.029491</td>\n",
       "    </tr>\n",
       "    <tr>\n",
       "      <th>Ship building and repairing</th>\n",
       "      <th>2020</th>\n",
       "      <td>NaN</td>\n",
       "      <td>0.471910</td>\n",
       "      <td>0.483614</td>\n",
       "      <td>0.493914</td>\n",
       "      <td>0.515918</td>\n",
       "      <td>0.533708</td>\n",
       "      <td>0.544007</td>\n",
       "      <td>0.553839</td>\n",
       "      <td>0.577247</td>\n",
       "      <td>0.593633</td>\n",
       "      <td>...</td>\n",
       "      <td>0.919476</td>\n",
       "      <td>0.920880</td>\n",
       "      <td>0.937266</td>\n",
       "      <td>0.954588</td>\n",
       "      <td>0.956929</td>\n",
       "      <td>0.961610</td>\n",
       "      <td>0.971910</td>\n",
       "      <td>0.987360</td>\n",
       "      <td>1.0</td>\n",
       "      <td>1.022168</td>\n",
       "    </tr>\n",
       "    <tr>\n",
       "      <th>Transportation equipment manufacturing</th>\n",
       "      <th>2020</th>\n",
       "      <td>NaN</td>\n",
       "      <td>NaN</td>\n",
       "      <td>NaN</td>\n",
       "      <td>NaN</td>\n",
       "      <td>NaN</td>\n",
       "      <td>NaN</td>\n",
       "      <td>NaN</td>\n",
       "      <td>NaN</td>\n",
       "      <td>NaN</td>\n",
       "      <td>NaN</td>\n",
       "      <td>...</td>\n",
       "      <td>0.916201</td>\n",
       "      <td>0.925778</td>\n",
       "      <td>0.938547</td>\n",
       "      <td>0.952115</td>\n",
       "      <td>0.959298</td>\n",
       "      <td>0.970471</td>\n",
       "      <td>0.984038</td>\n",
       "      <td>0.994413</td>\n",
       "      <td>1.0</td>\n",
       "      <td>1.027199</td>\n",
       "    </tr>\n",
       "  </tbody>\n",
       "</table>\n",
       "<p>5 rows × 37 columns</p>\n",
       "</div>"
      ],
      "text/plain": [
       "year                                                1985      1986      1987  \\\n",
       "measure_data_type                         BY                                   \n",
       "Aerospace product and parts manufacturing 2020       NaN  0.423394  0.423394   \n",
       "Primary metal mfg                         2020  0.509482  0.497181  0.517683   \n",
       "Ship and boat building                    2020       NaN  0.445707  0.456650   \n",
       "Ship building and repairing               2020       NaN  0.471910  0.483614   \n",
       "Transportation equipment manufacturing    2020       NaN       NaN       NaN   \n",
       "\n",
       "year                                                1988      1989      1990  \\\n",
       "measure_data_type                         BY                                   \n",
       "Aerospace product and parts manufacturing 2020  0.434514  0.461697  0.484761   \n",
       "Primary metal mfg                         2020  0.579190  0.608919  0.597130   \n",
       "Ship and boat building                    2020  0.467172  0.488215  0.505471   \n",
       "Ship building and repairing               2020  0.493914  0.515918  0.533708   \n",
       "Transportation equipment manufacturing    2020       NaN       NaN       NaN   \n",
       "\n",
       "year                                                1991      1992      1993  \\\n",
       "measure_data_type                         BY                                   \n",
       "Aerospace product and parts manufacturing 2020  0.503707  0.521417  0.535832   \n",
       "Primary metal mfg                         2020  0.579703  0.572527  0.570989   \n",
       "Ship and boat building                    2020  0.516414  0.529040  0.546717   \n",
       "Ship building and repairing               2020  0.544007  0.553839  0.577247   \n",
       "Transportation equipment manufacturing    2020       NaN       NaN       NaN   \n",
       "\n",
       "year                                                1994  ...      2012  \\\n",
       "measure_data_type                         BY              ...             \n",
       "Aerospace product and parts manufacturing 2020  0.551895  ...  0.888386   \n",
       "Primary metal mfg                         2020  0.599692  ...  1.064070   \n",
       "Ship and boat building                    2020  0.559764  ...  0.881734   \n",
       "Ship building and repairing               2020  0.593633  ...  0.919476   \n",
       "Transportation equipment manufacturing    2020       NaN  ...  0.916201   \n",
       "\n",
       "year                                                2013      2014      2015  \\\n",
       "measure_data_type                         BY                                   \n",
       "Aerospace product and parts manufacturing 2020  0.902389  0.916392  0.924217   \n",
       "Primary metal mfg                         2020  1.018452  1.030241  0.943106   \n",
       "Ship and boat building                    2020  0.891835  0.909512  0.927609   \n",
       "Ship building and repairing               2020  0.920880  0.937266  0.954588   \n",
       "Transportation equipment manufacturing    2020  0.925778  0.938547  0.952115   \n",
       "\n",
       "year                                                2016      2017      2018  \\\n",
       "measure_data_type                         BY                                   \n",
       "Aerospace product and parts manufacturing 2020  0.938633  0.948929  0.966227   \n",
       "Primary metal mfg                         2020  0.898001  0.981035  1.084059   \n",
       "Ship and boat building                    2020  0.936027  0.946970  0.963384   \n",
       "Ship building and repairing               2020  0.956929  0.961610  0.971910   \n",
       "Transportation equipment manufacturing    2020  0.959298  0.970471  0.984038   \n",
       "\n",
       "year                                                2019  2020      2021  \n",
       "measure_data_type                         BY                              \n",
       "Aerospace product and parts manufacturing 2020  0.985173   1.0  1.014518  \n",
       "Primary metal mfg                         2020  1.059457   1.0  1.497437  \n",
       "Ship and boat building                    2020  0.983165   1.0  1.029491  \n",
       "Ship building and repairing               2020  0.987360   1.0  1.022168  \n",
       "Transportation equipment manufacturing    2020  0.994413   1.0  1.027199  \n",
       "\n",
       "[5 rows x 37 columns]"
      ]
     },
     "execution_count": null,
     "metadata": {},
     "output_type": "execute_result"
    }
   ],
   "source": [
    "data = bls_search()\n",
    "data\n",
    "vals = bls_format(data).query('periodName ==\"Annual\"')\n",
    "vals\n",
    "\n",
    "bls = get_bls(annual=True, BY=2020)\n",
    "print(\"BaseYear =\", bls.query(\"value =='100'\").year.unique())\n",
    "bls.pivot_table(values = 'BY_VALUE', index=['measure_data_type', \"BY\"], columns=['year'])\n",
    "#vals.apply(lambda x: x / vals['2020'], axis=1) "
   ]
  },
  {
   "cell_type": "code",
   "execution_count": null,
   "id": "c7597835-8a40-46de-9b45-e88b44197655",
   "metadata": {},
   "outputs": [
    {
     "data": {
      "application/vnd.plotly.v1+json": {
       "config": {
        "plotlyServerURL": "https://plot.ly"
       },
       "data": [
        {
         "hovertemplate": "measure_data_type=Aerospace product and parts manufacturing<br>year=%{x}<br>BY_VALUE=%{y}<extra></extra>",
         "legendgroup": "Aerospace product and parts manufacturing",
         "marker": {
          "color": "#636efa",
          "symbol": "circle"
         },
         "mode": "markers",
         "name": "Aerospace product and parts manufacturing",
         "orientation": "v",
         "showlegend": true,
         "type": "scatter",
         "x": [
          1995,
          1994,
          1993,
          1992,
          1991,
          1990,
          1989,
          1988,
          1987,
          1986,
          2010,
          2009,
          2008,
          2007,
          2006,
          2005,
          2004,
          2003,
          2002,
          2001,
          2000,
          1999,
          1998,
          1997,
          1996,
          1995,
          2021,
          2020,
          2019,
          2018,
          2017,
          2016,
          2015,
          2014,
          2013,
          2012,
          2011,
          2010
         ],
         "xaxis": "x",
         "y": [
          0.5654859967051071,
          0.5518945634266886,
          0.535831960461285,
          0.5214168039538715,
          0.5037067545304778,
          0.4847611202635914,
          0.46169686985172975,
          0.43451400329489287,
          0.4233937397034596,
          0.4233937397034596,
          0.8377265238879736,
          0.8261943986820428,
          0.8080724876441515,
          0.7767710049423393,
          0.7528830313014827,
          0.7248764415156507,
          0.6919275123558484,
          0.6680395387149917,
          0.6478583196046128,
          0.637149917627677,
          0.6173805601317958,
          0.5963756177924218,
          0.5906095551894563,
          0.5877265238879735,
          0.5799011532125206,
          0.5654859967051071,
          1.0145181219110377,
          1,
          0.9851729818780889,
          0.9662273476112025,
          0.9489291598023064,
          0.9386326194398682,
          0.9242174629324547,
          0.9163920922570016,
          0.9023887973640856,
          0.8883855024711697,
          0.8682042833607908,
          0.8377265238879736
         ],
         "yaxis": "y"
        },
        {
         "hovertemplate": "measure_data_type=Ship and boat building<br>year=%{x}<br>BY_VALUE=%{y}<extra></extra>",
         "legendgroup": "Ship and boat building",
         "marker": {
          "color": "#EF553B",
          "symbol": "circle"
         },
         "mode": "markers",
         "name": "Ship and boat building",
         "orientation": "v",
         "showlegend": true,
         "type": "scatter",
         "x": [
          1995,
          1994,
          1993,
          1992,
          1991,
          1990,
          1989,
          1988,
          1987,
          1986,
          2010,
          2009,
          2008,
          2007,
          2006,
          2005,
          2004,
          2003,
          2002,
          2001,
          2000,
          1999,
          1998,
          1997,
          1996,
          1995,
          2021,
          2020,
          2019,
          2018,
          2017,
          2016,
          2015,
          2014,
          2013,
          2012,
          2011,
          2010
         ],
         "xaxis": "x",
         "y": [
          0.5681818181818182,
          0.5597643097643098,
          0.5467171717171717,
          0.5290404040404041,
          0.5164141414141414,
          0.5054713804713804,
          0.4882154882154882,
          0.4671717171717172,
          0.45664983164983164,
          0.4457070707070707,
          0.8543771043771043,
          0.8383838383838383,
          0.8156565656565657,
          0.7925084175084176,
          0.7634680134680135,
          0.7365319865319866,
          0.7138047138047138,
          0.6860269360269361,
          0.65993265993266,
          0.6422558922558923,
          0.6271043771043772,
          0.6127946127946128,
          0.6064814814814815,
          0.5976430976430976,
          0.5816498316498316,
          0.5681818181818182,
          1.0294907407407408,
          1,
          0.9831649831649831,
          0.9633838383838385,
          0.946969696969697,
          0.9360269360269361,
          0.9276094276094277,
          0.9095117845117845,
          0.8918350168350169,
          0.8817340067340067,
          0.8699494949494949,
          0.8543771043771043
         ],
         "yaxis": "y"
        },
        {
         "hovertemplate": "measure_data_type=Ship building and repairing<br>year=%{x}<br>BY_VALUE=%{y}<extra></extra>",
         "legendgroup": "Ship building and repairing",
         "marker": {
          "color": "#00cc96",
          "symbol": "circle"
         },
         "mode": "markers",
         "name": "Ship building and repairing",
         "orientation": "v",
         "showlegend": true,
         "type": "scatter",
         "x": [
          1995,
          1994,
          1993,
          1992,
          1991,
          1990,
          1989,
          1988,
          1987,
          1986,
          2010,
          2009,
          2008,
          2007,
          2006,
          2005,
          2004,
          2003,
          2002,
          2001,
          2000,
          1999,
          1998,
          1997,
          1996,
          1995,
          2021,
          2020,
          2019,
          2018,
          2017,
          2016,
          2015,
          2014,
          2013,
          2012,
          2011,
          2010
         ],
         "xaxis": "x",
         "y": [
          0.5973782771535581,
          0.5936329588014981,
          0.577247191011236,
          0.5538389513108615,
          0.5440074906367042,
          0.5337078651685393,
          0.5159176029962547,
          0.49391385767790263,
          0.4836142322097378,
          0.47191011235955055,
          0.8946629213483146,
          0.8773408239700375,
          0.850187265917603,
          0.8286516853932584,
          0.7954119850187267,
          0.7673220973782772,
          0.7481273408239701,
          0.7102059925093632,
          0.674625468164794,
          0.6558988764044944,
          0.6441947565543071,
          0.6338951310861424,
          0.6310861423220975,
          0.6240636704119851,
          0.6090823970037453,
          0.5973782771535581,
          1.0221676029962548,
          1,
          0.9873595505617978,
          0.9719101123595506,
          0.9616104868913858,
          0.9569288389513109,
          0.9545880149812734,
          0.9372659176029963,
          0.920880149812734,
          0.9194756554307116,
          0.9129213483146068,
          0.8946629213483146
         ],
         "yaxis": "y"
        },
        {
         "hovertemplate": "measure_data_type=Primary metal mfg<br>year=%{x}<br>BY_VALUE=%{y}<extra></extra>",
         "legendgroup": "Primary metal mfg",
         "marker": {
          "color": "#ab63fa",
          "symbol": "circle"
         },
         "mode": "markers",
         "name": "Primary metal mfg",
         "orientation": "v",
         "showlegend": true,
         "type": "scatter",
         "x": [
          1995,
          1994,
          1993,
          1992,
          1991,
          1990,
          1989,
          1988,
          1987,
          1986,
          1985,
          2010,
          2009,
          2008,
          2007,
          2006,
          2005,
          2004,
          2003,
          2002,
          2001,
          2000,
          1999,
          1998,
          1997,
          1996,
          1995,
          2021,
          2020,
          2019,
          2018,
          2017,
          2016,
          2015,
          2014,
          2013,
          2012,
          2011,
          2010
         ],
         "xaxis": "x",
         "y": [
          0.6570989236289082,
          0.5996924654023578,
          0.5709892362890826,
          0.5725269092772938,
          0.5797027165556125,
          0.5971296770886725,
          0.6089185033316248,
          0.5791901588928755,
          0.5176832393644285,
          0.4971809328549462,
          0.5094823167606356,
          1.0051255766273706,
          0.8841619682214249,
          1.0861096873398257,
          0.9764223475140954,
          0.919015889287545,
          0.8011276268580216,
          0.7319323423885188,
          0.6068682726806767,
          0.5955920041004613,
          0.5950794464377243,
          0.6140440799589953,
          0.5935417734495131,
          0.6196822142491031,
          0.6391594054331112,
          0.6340338288057407,
          0.6570989236289082,
          1.4974372116863146,
          1,
          1.0594566888774988,
          1.0840594566888775,
          0.9810353664787289,
          0.8980010251153254,
          0.9431060994361866,
          1.0302409021014864,
          1.018452075858534,
          1.0640697078421322,
          1.1132752434648898,
          1.0051255766273706
         ],
         "yaxis": "y"
        },
        {
         "hovertemplate": "measure_data_type=Transportation equipment manufacturing<br>year=%{x}<br>BY_VALUE=%{y}<extra></extra>",
         "legendgroup": "Transportation equipment manufacturing",
         "marker": {
          "color": "#FFA15A",
          "symbol": "circle"
         },
         "mode": "markers",
         "name": "Transportation equipment manufacturing",
         "orientation": "v",
         "showlegend": true,
         "type": "scatter",
         "x": [
          2010,
          2009,
          2008,
          2007,
          2006,
          2005,
          2004,
          2021,
          2020,
          2019,
          2018,
          2017,
          2016,
          2015,
          2014,
          2013,
          2012,
          2011,
          2010
         ],
         "xaxis": "x",
         "y": [
          0.8810853950518756,
          0.87390263367917,
          0.8563447725458898,
          0.8371907422186753,
          0.8236233040702314,
          0.8180367118914605,
          0.8052673583399841,
          1.0271987230646449,
          1,
          0.994413407821229,
          0.9840383080606544,
          0.9704708699122107,
          0.9592976855546689,
          0.9521149241819633,
          0.9385474860335196,
          0.9257781324820431,
          0.9162011173184358,
          0.8962490023942538,
          0.8810853950518756
         ],
         "yaxis": "y"
        }
       ],
       "layout": {
        "autosize": true,
        "legend": {
         "title": {
          "text": "measure_data_type"
         },
         "tracegroupgap": 0
        },
        "margin": {
         "t": 60
        },
        "template": {
         "data": {
          "bar": [
           {
            "error_x": {
             "color": "#2a3f5f"
            },
            "error_y": {
             "color": "#2a3f5f"
            },
            "marker": {
             "line": {
              "color": "#E5ECF6",
              "width": 0.5
             },
             "pattern": {
              "fillmode": "overlay",
              "size": 10,
              "solidity": 0.2
             }
            },
            "type": "bar"
           }
          ],
          "barpolar": [
           {
            "marker": {
             "line": {
              "color": "#E5ECF6",
              "width": 0.5
             },
             "pattern": {
              "fillmode": "overlay",
              "size": 10,
              "solidity": 0.2
             }
            },
            "type": "barpolar"
           }
          ],
          "carpet": [
           {
            "aaxis": {
             "endlinecolor": "#2a3f5f",
             "gridcolor": "white",
             "linecolor": "white",
             "minorgridcolor": "white",
             "startlinecolor": "#2a3f5f"
            },
            "baxis": {
             "endlinecolor": "#2a3f5f",
             "gridcolor": "white",
             "linecolor": "white",
             "minorgridcolor": "white",
             "startlinecolor": "#2a3f5f"
            },
            "type": "carpet"
           }
          ],
          "choropleth": [
           {
            "colorbar": {
             "outlinewidth": 0,
             "ticks": ""
            },
            "type": "choropleth"
           }
          ],
          "contour": [
           {
            "colorbar": {
             "outlinewidth": 0,
             "ticks": ""
            },
            "colorscale": [
             [
              0,
              "#0d0887"
             ],
             [
              0.1111111111111111,
              "#46039f"
             ],
             [
              0.2222222222222222,
              "#7201a8"
             ],
             [
              0.3333333333333333,
              "#9c179e"
             ],
             [
              0.4444444444444444,
              "#bd3786"
             ],
             [
              0.5555555555555556,
              "#d8576b"
             ],
             [
              0.6666666666666666,
              "#ed7953"
             ],
             [
              0.7777777777777778,
              "#fb9f3a"
             ],
             [
              0.8888888888888888,
              "#fdca26"
             ],
             [
              1,
              "#f0f921"
             ]
            ],
            "type": "contour"
           }
          ],
          "contourcarpet": [
           {
            "colorbar": {
             "outlinewidth": 0,
             "ticks": ""
            },
            "type": "contourcarpet"
           }
          ],
          "heatmap": [
           {
            "colorbar": {
             "outlinewidth": 0,
             "ticks": ""
            },
            "colorscale": [
             [
              0,
              "#0d0887"
             ],
             [
              0.1111111111111111,
              "#46039f"
             ],
             [
              0.2222222222222222,
              "#7201a8"
             ],
             [
              0.3333333333333333,
              "#9c179e"
             ],
             [
              0.4444444444444444,
              "#bd3786"
             ],
             [
              0.5555555555555556,
              "#d8576b"
             ],
             [
              0.6666666666666666,
              "#ed7953"
             ],
             [
              0.7777777777777778,
              "#fb9f3a"
             ],
             [
              0.8888888888888888,
              "#fdca26"
             ],
             [
              1,
              "#f0f921"
             ]
            ],
            "type": "heatmap"
           }
          ],
          "heatmapgl": [
           {
            "colorbar": {
             "outlinewidth": 0,
             "ticks": ""
            },
            "colorscale": [
             [
              0,
              "#0d0887"
             ],
             [
              0.1111111111111111,
              "#46039f"
             ],
             [
              0.2222222222222222,
              "#7201a8"
             ],
             [
              0.3333333333333333,
              "#9c179e"
             ],
             [
              0.4444444444444444,
              "#bd3786"
             ],
             [
              0.5555555555555556,
              "#d8576b"
             ],
             [
              0.6666666666666666,
              "#ed7953"
             ],
             [
              0.7777777777777778,
              "#fb9f3a"
             ],
             [
              0.8888888888888888,
              "#fdca26"
             ],
             [
              1,
              "#f0f921"
             ]
            ],
            "type": "heatmapgl"
           }
          ],
          "histogram": [
           {
            "marker": {
             "pattern": {
              "fillmode": "overlay",
              "size": 10,
              "solidity": 0.2
             }
            },
            "type": "histogram"
           }
          ],
          "histogram2d": [
           {
            "colorbar": {
             "outlinewidth": 0,
             "ticks": ""
            },
            "colorscale": [
             [
              0,
              "#0d0887"
             ],
             [
              0.1111111111111111,
              "#46039f"
             ],
             [
              0.2222222222222222,
              "#7201a8"
             ],
             [
              0.3333333333333333,
              "#9c179e"
             ],
             [
              0.4444444444444444,
              "#bd3786"
             ],
             [
              0.5555555555555556,
              "#d8576b"
             ],
             [
              0.6666666666666666,
              "#ed7953"
             ],
             [
              0.7777777777777778,
              "#fb9f3a"
             ],
             [
              0.8888888888888888,
              "#fdca26"
             ],
             [
              1,
              "#f0f921"
             ]
            ],
            "type": "histogram2d"
           }
          ],
          "histogram2dcontour": [
           {
            "colorbar": {
             "outlinewidth": 0,
             "ticks": ""
            },
            "colorscale": [
             [
              0,
              "#0d0887"
             ],
             [
              0.1111111111111111,
              "#46039f"
             ],
             [
              0.2222222222222222,
              "#7201a8"
             ],
             [
              0.3333333333333333,
              "#9c179e"
             ],
             [
              0.4444444444444444,
              "#bd3786"
             ],
             [
              0.5555555555555556,
              "#d8576b"
             ],
             [
              0.6666666666666666,
              "#ed7953"
             ],
             [
              0.7777777777777778,
              "#fb9f3a"
             ],
             [
              0.8888888888888888,
              "#fdca26"
             ],
             [
              1,
              "#f0f921"
             ]
            ],
            "type": "histogram2dcontour"
           }
          ],
          "mesh3d": [
           {
            "colorbar": {
             "outlinewidth": 0,
             "ticks": ""
            },
            "type": "mesh3d"
           }
          ],
          "parcoords": [
           {
            "line": {
             "colorbar": {
              "outlinewidth": 0,
              "ticks": ""
             }
            },
            "type": "parcoords"
           }
          ],
          "pie": [
           {
            "automargin": true,
            "type": "pie"
           }
          ],
          "scatter": [
           {
            "marker": {
             "colorbar": {
              "outlinewidth": 0,
              "ticks": ""
             }
            },
            "type": "scatter"
           }
          ],
          "scatter3d": [
           {
            "line": {
             "colorbar": {
              "outlinewidth": 0,
              "ticks": ""
             }
            },
            "marker": {
             "colorbar": {
              "outlinewidth": 0,
              "ticks": ""
             }
            },
            "type": "scatter3d"
           }
          ],
          "scattercarpet": [
           {
            "marker": {
             "colorbar": {
              "outlinewidth": 0,
              "ticks": ""
             }
            },
            "type": "scattercarpet"
           }
          ],
          "scattergeo": [
           {
            "marker": {
             "colorbar": {
              "outlinewidth": 0,
              "ticks": ""
             }
            },
            "type": "scattergeo"
           }
          ],
          "scattergl": [
           {
            "marker": {
             "colorbar": {
              "outlinewidth": 0,
              "ticks": ""
             }
            },
            "type": "scattergl"
           }
          ],
          "scattermapbox": [
           {
            "marker": {
             "colorbar": {
              "outlinewidth": 0,
              "ticks": ""
             }
            },
            "type": "scattermapbox"
           }
          ],
          "scatterpolar": [
           {
            "marker": {
             "colorbar": {
              "outlinewidth": 0,
              "ticks": ""
             }
            },
            "type": "scatterpolar"
           }
          ],
          "scatterpolargl": [
           {
            "marker": {
             "colorbar": {
              "outlinewidth": 0,
              "ticks": ""
             }
            },
            "type": "scatterpolargl"
           }
          ],
          "scatterternary": [
           {
            "marker": {
             "colorbar": {
              "outlinewidth": 0,
              "ticks": ""
             }
            },
            "type": "scatterternary"
           }
          ],
          "surface": [
           {
            "colorbar": {
             "outlinewidth": 0,
             "ticks": ""
            },
            "colorscale": [
             [
              0,
              "#0d0887"
             ],
             [
              0.1111111111111111,
              "#46039f"
             ],
             [
              0.2222222222222222,
              "#7201a8"
             ],
             [
              0.3333333333333333,
              "#9c179e"
             ],
             [
              0.4444444444444444,
              "#bd3786"
             ],
             [
              0.5555555555555556,
              "#d8576b"
             ],
             [
              0.6666666666666666,
              "#ed7953"
             ],
             [
              0.7777777777777778,
              "#fb9f3a"
             ],
             [
              0.8888888888888888,
              "#fdca26"
             ],
             [
              1,
              "#f0f921"
             ]
            ],
            "type": "surface"
           }
          ],
          "table": [
           {
            "cells": {
             "fill": {
              "color": "#EBF0F8"
             },
             "line": {
              "color": "white"
             }
            },
            "header": {
             "fill": {
              "color": "#C8D4E3"
             },
             "line": {
              "color": "white"
             }
            },
            "type": "table"
           }
          ]
         },
         "layout": {
          "annotationdefaults": {
           "arrowcolor": "#2a3f5f",
           "arrowhead": 0,
           "arrowwidth": 1
          },
          "autotypenumbers": "strict",
          "coloraxis": {
           "colorbar": {
            "outlinewidth": 0,
            "ticks": ""
           }
          },
          "colorscale": {
           "diverging": [
            [
             0,
             "#8e0152"
            ],
            [
             0.1,
             "#c51b7d"
            ],
            [
             0.2,
             "#de77ae"
            ],
            [
             0.3,
             "#f1b6da"
            ],
            [
             0.4,
             "#fde0ef"
            ],
            [
             0.5,
             "#f7f7f7"
            ],
            [
             0.6,
             "#e6f5d0"
            ],
            [
             0.7,
             "#b8e186"
            ],
            [
             0.8,
             "#7fbc41"
            ],
            [
             0.9,
             "#4d9221"
            ],
            [
             1,
             "#276419"
            ]
           ],
           "sequential": [
            [
             0,
             "#0d0887"
            ],
            [
             0.1111111111111111,
             "#46039f"
            ],
            [
             0.2222222222222222,
             "#7201a8"
            ],
            [
             0.3333333333333333,
             "#9c179e"
            ],
            [
             0.4444444444444444,
             "#bd3786"
            ],
            [
             0.5555555555555556,
             "#d8576b"
            ],
            [
             0.6666666666666666,
             "#ed7953"
            ],
            [
             0.7777777777777778,
             "#fb9f3a"
            ],
            [
             0.8888888888888888,
             "#fdca26"
            ],
            [
             1,
             "#f0f921"
            ]
           ],
           "sequentialminus": [
            [
             0,
             "#0d0887"
            ],
            [
             0.1111111111111111,
             "#46039f"
            ],
            [
             0.2222222222222222,
             "#7201a8"
            ],
            [
             0.3333333333333333,
             "#9c179e"
            ],
            [
             0.4444444444444444,
             "#bd3786"
            ],
            [
             0.5555555555555556,
             "#d8576b"
            ],
            [
             0.6666666666666666,
             "#ed7953"
            ],
            [
             0.7777777777777778,
             "#fb9f3a"
            ],
            [
             0.8888888888888888,
             "#fdca26"
            ],
            [
             1,
             "#f0f921"
            ]
           ]
          },
          "colorway": [
           "#636efa",
           "#EF553B",
           "#00cc96",
           "#ab63fa",
           "#FFA15A",
           "#19d3f3",
           "#FF6692",
           "#B6E880",
           "#FF97FF",
           "#FECB52"
          ],
          "font": {
           "color": "#2a3f5f"
          },
          "geo": {
           "bgcolor": "white",
           "lakecolor": "white",
           "landcolor": "#E5ECF6",
           "showlakes": true,
           "showland": true,
           "subunitcolor": "white"
          },
          "hoverlabel": {
           "align": "left"
          },
          "hovermode": "closest",
          "mapbox": {
           "style": "light"
          },
          "paper_bgcolor": "white",
          "plot_bgcolor": "#E5ECF6",
          "polar": {
           "angularaxis": {
            "gridcolor": "white",
            "linecolor": "white",
            "ticks": ""
           },
           "bgcolor": "#E5ECF6",
           "radialaxis": {
            "gridcolor": "white",
            "linecolor": "white",
            "ticks": ""
           }
          },
          "scene": {
           "xaxis": {
            "backgroundcolor": "#E5ECF6",
            "gridcolor": "white",
            "gridwidth": 2,
            "linecolor": "white",
            "showbackground": true,
            "ticks": "",
            "zerolinecolor": "white"
           },
           "yaxis": {
            "backgroundcolor": "#E5ECF6",
            "gridcolor": "white",
            "gridwidth": 2,
            "linecolor": "white",
            "showbackground": true,
            "ticks": "",
            "zerolinecolor": "white"
           },
           "zaxis": {
            "backgroundcolor": "#E5ECF6",
            "gridcolor": "white",
            "gridwidth": 2,
            "linecolor": "white",
            "showbackground": true,
            "ticks": "",
            "zerolinecolor": "white"
           }
          },
          "shapedefaults": {
           "line": {
            "color": "#2a3f5f"
           }
          },
          "ternary": {
           "aaxis": {
            "gridcolor": "white",
            "linecolor": "white",
            "ticks": ""
           },
           "baxis": {
            "gridcolor": "white",
            "linecolor": "white",
            "ticks": ""
           },
           "bgcolor": "#E5ECF6",
           "caxis": {
            "gridcolor": "white",
            "linecolor": "white",
            "ticks": ""
           }
          },
          "title": {
           "x": 0.05
          },
          "xaxis": {
           "automargin": true,
           "gridcolor": "white",
           "linecolor": "white",
           "ticks": "",
           "title": {
            "standoff": 15
           },
           "zerolinecolor": "white",
           "zerolinewidth": 2
          },
          "yaxis": {
           "automargin": true,
           "gridcolor": "white",
           "linecolor": "white",
           "ticks": "",
           "title": {
            "standoff": 15
           },
           "zerolinecolor": "white",
           "zerolinewidth": 2
          }
         }
        },
        "xaxis": {
         "anchor": "y",
         "autorange": true,
         "domain": [
          0,
          1
         ],
         "range": [
          1982.888417763892,
          2023.111582236108
         ],
         "title": {
          "text": "year"
         },
         "type": "linear"
        },
        "yaxis": {
         "anchor": "x",
         "autorange": true,
         "domain": [
          0,
          1
         ],
         "range": [
          0.34023289344756924,
          1.580598057942205
         ],
         "title": {
          "text": "BY_VALUE"
         },
         "type": "linear"
        }
       }
      },
      "image/png": "[encoded data removed]",
      "text/html": [
       "<div>                            <div id=\"eade6751-0fca-4117-a601-1f2c2b597460\" class=\"plotly-graph-div\" style=\"height:525px; width:100%;\"></div>            <script type=\"text/javascript\">                require([\"plotly\"], function(Plotly) {                    window.PLOTLYENV=window.PLOTLYENV || {};                                    if (document.getElementById(\"eade6751-0fca-4117-a601-1f2c2b597460\")) {                    Plotly.newPlot(                        \"eade6751-0fca-4117-a601-1f2c2b597460\",                        [{\"hovertemplate\":\"measure_data_type=Aerospace product and parts manufacturing<br>year=%{x}<br>BY_VALUE=%{y}<extra></extra>\",\"legendgroup\":\"Aerospace product and parts manufacturing\",\"marker\":{\"color\":\"#636efa\",\"symbol\":\"circle\"},\"mode\":\"markers\",\"name\":\"Aerospace product and parts manufacturing\",\"orientation\":\"v\",\"showlegend\":true,\"x\":[1995,1994,1993,1992,1991,1990,1989,1988,1987,1986,2010,2009,2008,2007,2006,2005,2004,2003,2002,2001,2000,1999,1998,1997,1996,1995,2021,2020,2019,2018,2017,2016,2015,2014,2013,2012,2011,2010],\"xaxis\":\"x\",\"y\":[0.5654859967051071,0.5518945634266886,0.535831960461285,0.5214168039538715,0.5037067545304778,0.4847611202635914,0.46169686985172975,0.43451400329489287,0.4233937397034596,0.4233937397034596,0.8377265238879736,0.8261943986820428,0.8080724876441515,0.7767710049423393,0.7528830313014827,0.7248764415156507,0.6919275123558484,0.6680395387149917,0.6478583196046128,0.637149917627677,0.6173805601317958,0.5963756177924218,0.5906095551894563,0.5877265238879735,0.5799011532125206,0.5654859967051071,1.0145181219110377,1.0,0.9851729818780889,0.9662273476112025,0.9489291598023064,0.9386326194398682,0.9242174629324547,0.9163920922570016,0.9023887973640856,0.8883855024711697,0.8682042833607908,0.8377265238879736],\"yaxis\":\"y\",\"type\":\"scatter\"},{\"hovertemplate\":\"measure_data_type=Ship and boat building<br>year=%{x}<br>BY_VALUE=%{y}<extra></extra>\",\"legendgroup\":\"Ship and boat building\",\"marker\":{\"color\":\"#EF553B\",\"symbol\":\"circle\"},\"mode\":\"markers\",\"name\":\"Ship and boat building\",\"orientation\":\"v\",\"showlegend\":true,\"x\":[1995,1994,1993,1992,1991,1990,1989,1988,1987,1986,2010,2009,2008,2007,2006,2005,2004,2003,2002,2001,2000,1999,1998,1997,1996,1995,2021,2020,2019,2018,2017,2016,2015,2014,2013,2012,2011,2010],\"xaxis\":\"x\",\"y\":[0.5681818181818182,0.5597643097643098,0.5467171717171717,0.5290404040404041,0.5164141414141414,0.5054713804713804,0.4882154882154882,0.4671717171717172,0.45664983164983164,0.4457070707070707,0.8543771043771043,0.8383838383838383,0.8156565656565657,0.7925084175084176,0.7634680134680135,0.7365319865319866,0.7138047138047138,0.6860269360269361,0.65993265993266,0.6422558922558923,0.6271043771043772,0.6127946127946128,0.6064814814814815,0.5976430976430976,0.5816498316498316,0.5681818181818182,1.0294907407407408,1.0,0.9831649831649831,0.9633838383838385,0.946969696969697,0.9360269360269361,0.9276094276094277,0.9095117845117845,0.8918350168350169,0.8817340067340067,0.8699494949494949,0.8543771043771043],\"yaxis\":\"y\",\"type\":\"scatter\"},{\"hovertemplate\":\"measure_data_type=Ship building and repairing<br>year=%{x}<br>BY_VALUE=%{y}<extra></extra>\",\"legendgroup\":\"Ship building and repairing\",\"marker\":{\"color\":\"#00cc96\",\"symbol\":\"circle\"},\"mode\":\"markers\",\"name\":\"Ship building and repairing\",\"orientation\":\"v\",\"showlegend\":true,\"x\":[1995,1994,1993,1992,1991,1990,1989,1988,1987,1986,2010,2009,2008,2007,2006,2005,2004,2003,2002,2001,2000,1999,1998,1997,1996,1995,2021,2020,2019,2018,2017,2016,2015,2014,2013,2012,2011,2010],\"xaxis\":\"x\",\"y\":[0.5973782771535581,0.5936329588014981,0.577247191011236,0.5538389513108615,0.5440074906367042,0.5337078651685393,0.5159176029962547,0.49391385767790263,0.4836142322097378,0.47191011235955055,0.8946629213483146,0.8773408239700375,0.850187265917603,0.8286516853932584,0.7954119850187267,0.7673220973782772,0.7481273408239701,0.7102059925093632,0.674625468164794,0.6558988764044944,0.6441947565543071,0.6338951310861424,0.6310861423220975,0.6240636704119851,0.6090823970037453,0.5973782771535581,1.0221676029962548,1.0,0.9873595505617978,0.9719101123595506,0.9616104868913858,0.9569288389513109,0.9545880149812734,0.9372659176029963,0.920880149812734,0.9194756554307116,0.9129213483146068,0.8946629213483146],\"yaxis\":\"y\",\"type\":\"scatter\"},{\"hovertemplate\":\"measure_data_type=Primary metal mfg<br>year=%{x}<br>BY_VALUE=%{y}<extra></extra>\",\"legendgroup\":\"Primary metal mfg\",\"marker\":{\"color\":\"#ab63fa\",\"symbol\":\"circle\"},\"mode\":\"markers\",\"name\":\"Primary metal mfg\",\"orientation\":\"v\",\"showlegend\":true,\"x\":[1995,1994,1993,1992,1991,1990,1989,1988,1987,1986,1985,2010,2009,2008,2007,2006,2005,2004,2003,2002,2001,2000,1999,1998,1997,1996,1995,2021,2020,2019,2018,2017,2016,2015,2014,2013,2012,2011,2010],\"xaxis\":\"x\",\"y\":[0.6570989236289082,0.5996924654023578,0.5709892362890826,0.5725269092772938,0.5797027165556125,0.5971296770886725,0.6089185033316248,0.5791901588928755,0.5176832393644285,0.4971809328549462,0.5094823167606356,1.0051255766273706,0.8841619682214249,1.0861096873398257,0.9764223475140954,0.919015889287545,0.8011276268580216,0.7319323423885188,0.6068682726806767,0.5955920041004613,0.5950794464377243,0.6140440799589953,0.5935417734495131,0.6196822142491031,0.6391594054331112,0.6340338288057407,0.6570989236289082,1.4974372116863146,1.0,1.0594566888774988,1.0840594566888775,0.9810353664787289,0.8980010251153254,0.9431060994361866,1.0302409021014864,1.018452075858534,1.0640697078421322,1.1132752434648898,1.0051255766273706],\"yaxis\":\"y\",\"type\":\"scatter\"},{\"hovertemplate\":\"measure_data_type=Transportation equipment manufacturing<br>year=%{x}<br>BY_VALUE=%{y}<extra></extra>\",\"legendgroup\":\"Transportation equipment manufacturing\",\"marker\":{\"color\":\"#FFA15A\",\"symbol\":\"circle\"},\"mode\":\"markers\",\"name\":\"Transportation equipment manufacturing\",\"orientation\":\"v\",\"showlegend\":true,\"x\":[2010,2009,2008,2007,2006,2005,2004,2021,2020,2019,2018,2017,2016,2015,2014,2013,2012,2011,2010],\"xaxis\":\"x\",\"y\":[0.8810853950518756,0.87390263367917,0.8563447725458898,0.8371907422186753,0.8236233040702314,0.8180367118914605,0.8052673583399841,1.0271987230646449,1.0,0.994413407821229,0.9840383080606544,0.9704708699122107,0.9592976855546689,0.9521149241819633,0.9385474860335196,0.9257781324820431,0.9162011173184358,0.8962490023942538,0.8810853950518756],\"yaxis\":\"y\",\"type\":\"scatter\"}],                        {\"template\":{\"data\":{\"bar\":[{\"error_x\":{\"color\":\"#2a3f5f\"},\"error_y\":{\"color\":\"#2a3f5f\"},\"marker\":{\"line\":{\"color\":\"#E5ECF6\",\"width\":0.5},\"pattern\":{\"fillmode\":\"overlay\",\"size\":10,\"solidity\":0.2}},\"type\":\"bar\"}],\"barpolar\":[{\"marker\":{\"line\":{\"color\":\"#E5ECF6\",\"width\":0.5},\"pattern\":{\"fillmode\":\"overlay\",\"size\":10,\"solidity\":0.2}},\"type\":\"barpolar\"}],\"carpet\":[{\"aaxis\":{\"endlinecolor\":\"#2a3f5f\",\"gridcolor\":\"white\",\"linecolor\":\"white\",\"minorgridcolor\":\"white\",\"startlinecolor\":\"#2a3f5f\"},\"baxis\":{\"endlinecolor\":\"#2a3f5f\",\"gridcolor\":\"white\",\"linecolor\":\"white\",\"minorgridcolor\":\"white\",\"startlinecolor\":\"#2a3f5f\"},\"type\":\"carpet\"}],\"choropleth\":[{\"colorbar\":{\"outlinewidth\":0,\"ticks\":\"\"},\"type\":\"choropleth\"}],\"contour\":[{\"colorbar\":{\"outlinewidth\":0,\"ticks\":\"\"},\"colorscale\":[[0.0,\"#0d0887\"],[0.1111111111111111,\"#46039f\"],[0.2222222222222222,\"#7201a8\"],[0.3333333333333333,\"#9c179e\"],[0.4444444444444444,\"#bd3786\"],[0.5555555555555556,\"#d8576b\"],[0.6666666666666666,\"#ed7953\"],[0.7777777777777778,\"#fb9f3a\"],[0.8888888888888888,\"#fdca26\"],[1.0,\"#f0f921\"]],\"type\":\"contour\"}],\"contourcarpet\":[{\"colorbar\":{\"outlinewidth\":0,\"ticks\":\"\"},\"type\":\"contourcarpet\"}],\"heatmap\":[{\"colorbar\":{\"outlinewidth\":0,\"ticks\":\"\"},\"colorscale\":[[0.0,\"#0d0887\"],[0.1111111111111111,\"#46039f\"],[0.2222222222222222,\"#7201a8\"],[0.3333333333333333,\"#9c179e\"],[0.4444444444444444,\"#bd3786\"],[0.5555555555555556,\"#d8576b\"],[0.6666666666666666,\"#ed7953\"],[0.7777777777777778,\"#fb9f3a\"],[0.8888888888888888,\"#fdca26\"],[1.0,\"#f0f921\"]],\"type\":\"heatmap\"}],\"heatmapgl\":[{\"colorbar\":{\"outlinewidth\":0,\"ticks\":\"\"},\"colorscale\":[[0.0,\"#0d0887\"],[0.1111111111111111,\"#46039f\"],[0.2222222222222222,\"#7201a8\"],[0.3333333333333333,\"#9c179e\"],[0.4444444444444444,\"#bd3786\"],[0.5555555555555556,\"#d8576b\"],[0.6666666666666666,\"#ed7953\"],[0.7777777777777778,\"#fb9f3a\"],[0.8888888888888888,\"#fdca26\"],[1.0,\"#f0f921\"]],\"type\":\"heatmapgl\"}],\"histogram\":[{\"marker\":{\"pattern\":{\"fillmode\":\"overlay\",\"size\":10,\"solidity\":0.2}},\"type\":\"histogram\"}],\"histogram2d\":[{\"colorbar\":{\"outlinewidth\":0,\"ticks\":\"\"},\"colorscale\":[[0.0,\"#0d0887\"],[0.1111111111111111,\"#46039f\"],[0.2222222222222222,\"#7201a8\"],[0.3333333333333333,\"#9c179e\"],[0.4444444444444444,\"#bd3786\"],[0.5555555555555556,\"#d8576b\"],[0.6666666666666666,\"#ed7953\"],[0.7777777777777778,\"#fb9f3a\"],[0.8888888888888888,\"#fdca26\"],[1.0,\"#f0f921\"]],\"type\":\"histogram2d\"}],\"histogram2dcontour\":[{\"colorbar\":{\"outlinewidth\":0,\"ticks\":\"\"},\"colorscale\":[[0.0,\"#0d0887\"],[0.1111111111111111,\"#46039f\"],[0.2222222222222222,\"#7201a8\"],[0.3333333333333333,\"#9c179e\"],[0.4444444444444444,\"#bd3786\"],[0.5555555555555556,\"#d8576b\"],[0.6666666666666666,\"#ed7953\"],[0.7777777777777778,\"#fb9f3a\"],[0.8888888888888888,\"#fdca26\"],[1.0,\"#f0f921\"]],\"type\":\"histogram2dcontour\"}],\"mesh3d\":[{\"colorbar\":{\"outlinewidth\":0,\"ticks\":\"\"},\"type\":\"mesh3d\"}],\"parcoords\":[{\"line\":{\"colorbar\":{\"outlinewidth\":0,\"ticks\":\"\"}},\"type\":\"parcoords\"}],\"pie\":[{\"automargin\":true,\"type\":\"pie\"}],\"scatter\":[{\"marker\":{\"colorbar\":{\"outlinewidth\":0,\"ticks\":\"\"}},\"type\":\"scatter\"}],\"scatter3d\":[{\"line\":{\"colorbar\":{\"outlinewidth\":0,\"ticks\":\"\"}},\"marker\":{\"colorbar\":{\"outlinewidth\":0,\"ticks\":\"\"}},\"type\":\"scatter3d\"}],\"scattercarpet\":[{\"marker\":{\"colorbar\":{\"outlinewidth\":0,\"ticks\":\"\"}},\"type\":\"scattercarpet\"}],\"scattergeo\":[{\"marker\":{\"colorbar\":{\"outlinewidth\":0,\"ticks\":\"\"}},\"type\":\"scattergeo\"}],\"scattergl\":[{\"marker\":{\"colorbar\":{\"outlinewidth\":0,\"ticks\":\"\"}},\"type\":\"scattergl\"}],\"scattermapbox\":[{\"marker\":{\"colorbar\":{\"outlinewidth\":0,\"ticks\":\"\"}},\"type\":\"scattermapbox\"}],\"scatterpolar\":[{\"marker\":{\"colorbar\":{\"outlinewidth\":0,\"ticks\":\"\"}},\"type\":\"scatterpolar\"}],\"scatterpolargl\":[{\"marker\":{\"colorbar\":{\"outlinewidth\":0,\"ticks\":\"\"}},\"type\":\"scatterpolargl\"}],\"scatterternary\":[{\"marker\":{\"colorbar\":{\"outlinewidth\":0,\"ticks\":\"\"}},\"type\":\"scatterternary\"}],\"surface\":[{\"colorbar\":{\"outlinewidth\":0,\"ticks\":\"\"},\"colorscale\":[[0.0,\"#0d0887\"],[0.1111111111111111,\"#46039f\"],[0.2222222222222222,\"#7201a8\"],[0.3333333333333333,\"#9c179e\"],[0.4444444444444444,\"#bd3786\"],[0.5555555555555556,\"#d8576b\"],[0.6666666666666666,\"#ed7953\"],[0.7777777777777778,\"#fb9f3a\"],[0.8888888888888888,\"#fdca26\"],[1.0,\"#f0f921\"]],\"type\":\"surface\"}],\"table\":[{\"cells\":{\"fill\":{\"color\":\"#EBF0F8\"},\"line\":{\"color\":\"white\"}},\"header\":{\"fill\":{\"color\":\"#C8D4E3\"},\"line\":{\"color\":\"white\"}},\"type\":\"table\"}]},\"layout\":{\"annotationdefaults\":{\"arrowcolor\":\"#2a3f5f\",\"arrowhead\":0,\"arrowwidth\":1},\"autotypenumbers\":\"strict\",\"coloraxis\":{\"colorbar\":{\"outlinewidth\":0,\"ticks\":\"\"}},\"colorscale\":{\"diverging\":[[0,\"#8e0152\"],[0.1,\"#c51b7d\"],[0.2,\"#de77ae\"],[0.3,\"#f1b6da\"],[0.4,\"#fde0ef\"],[0.5,\"#f7f7f7\"],[0.6,\"#e6f5d0\"],[0.7,\"#b8e186\"],[0.8,\"#7fbc41\"],[0.9,\"#4d9221\"],[1,\"#276419\"]],\"sequential\":[[0.0,\"#0d0887\"],[0.1111111111111111,\"#46039f\"],[0.2222222222222222,\"#7201a8\"],[0.3333333333333333,\"#9c179e\"],[0.4444444444444444,\"#bd3786\"],[0.5555555555555556,\"#d8576b\"],[0.6666666666666666,\"#ed7953\"],[0.7777777777777778,\"#fb9f3a\"],[0.8888888888888888,\"#fdca26\"],[1.0,\"#f0f921\"]],\"sequentialminus\":[[0.0,\"#0d0887\"],[0.1111111111111111,\"#46039f\"],[0.2222222222222222,\"#7201a8\"],[0.3333333333333333,\"#9c179e\"],[0.4444444444444444,\"#bd3786\"],[0.5555555555555556,\"#d8576b\"],[0.6666666666666666,\"#ed7953\"],[0.7777777777777778,\"#fb9f3a\"],[0.8888888888888888,\"#fdca26\"],[1.0,\"#f0f921\"]]},\"colorway\":[\"#636efa\",\"#EF553B\",\"#00cc96\",\"#ab63fa\",\"#FFA15A\",\"#19d3f3\",\"#FF6692\",\"#B6E880\",\"#FF97FF\",\"#FECB52\"],\"font\":{\"color\":\"#2a3f5f\"},\"geo\":{\"bgcolor\":\"white\",\"lakecolor\":\"white\",\"landcolor\":\"#E5ECF6\",\"showlakes\":true,\"showland\":true,\"subunitcolor\":\"white\"},\"hoverlabel\":{\"align\":\"left\"},\"hovermode\":\"closest\",\"mapbox\":{\"style\":\"light\"},\"paper_bgcolor\":\"white\",\"plot_bgcolor\":\"#E5ECF6\",\"polar\":{\"angularaxis\":{\"gridcolor\":\"white\",\"linecolor\":\"white\",\"ticks\":\"\"},\"bgcolor\":\"#E5ECF6\",\"radialaxis\":{\"gridcolor\":\"white\",\"linecolor\":\"white\",\"ticks\":\"\"}},\"scene\":{\"xaxis\":{\"backgroundcolor\":\"#E5ECF6\",\"gridcolor\":\"white\",\"gridwidth\":2,\"linecolor\":\"white\",\"showbackground\":true,\"ticks\":\"\",\"zerolinecolor\":\"white\"},\"yaxis\":{\"backgroundcolor\":\"#E5ECF6\",\"gridcolor\":\"white\",\"gridwidth\":2,\"linecolor\":\"white\",\"showbackground\":true,\"ticks\":\"\",\"zerolinecolor\":\"white\"},\"zaxis\":{\"backgroundcolor\":\"#E5ECF6\",\"gridcolor\":\"white\",\"gridwidth\":2,\"linecolor\":\"white\",\"showbackground\":true,\"ticks\":\"\",\"zerolinecolor\":\"white\"}},\"shapedefaults\":{\"line\":{\"color\":\"#2a3f5f\"}},\"ternary\":{\"aaxis\":{\"gridcolor\":\"white\",\"linecolor\":\"white\",\"ticks\":\"\"},\"baxis\":{\"gridcolor\":\"white\",\"linecolor\":\"white\",\"ticks\":\"\"},\"bgcolor\":\"#E5ECF6\",\"caxis\":{\"gridcolor\":\"white\",\"linecolor\":\"white\",\"ticks\":\"\"}},\"title\":{\"x\":0.05},\"xaxis\":{\"automargin\":true,\"gridcolor\":\"white\",\"linecolor\":\"white\",\"ticks\":\"\",\"title\":{\"standoff\":15},\"zerolinecolor\":\"white\",\"zerolinewidth\":2},\"yaxis\":{\"automargin\":true,\"gridcolor\":\"white\",\"linecolor\":\"white\",\"ticks\":\"\",\"title\":{\"standoff\":15},\"zerolinecolor\":\"white\",\"zerolinewidth\":2}}},\"xaxis\":{\"anchor\":\"y\",\"domain\":[0.0,1.0],\"title\":{\"text\":\"year\"}},\"yaxis\":{\"anchor\":\"x\",\"domain\":[0.0,1.0],\"title\":{\"text\":\"BY_VALUE\"}},\"legend\":{\"title\":{\"text\":\"measure_data_type\"},\"tracegroupgap\":0},\"margin\":{\"t\":60}},                        {\"responsive\": true}                    ).then(function(){\n",
       "                            \n",
       "var gd = document.getElementById('eade6751-0fca-4117-a601-1f2c2b597460');\n",
       "var x = new MutationObserver(function (mutations, observer) {{\n",
       "        var display = window.getComputedStyle(gd).display;\n",
       "        if (!display || display === 'none') {{\n",
       "            console.log([gd, 'removed!']);\n",
       "            Plotly.purge(gd);\n",
       "            observer.disconnect();\n",
       "        }}\n",
       "}});\n",
       "\n",
       "// Listen for the removal of the full notebook cells\n",
       "var notebookContainer = gd.closest('#notebook-container');\n",
       "if (notebookContainer) {{\n",
       "    x.observe(notebookContainer, {childList: true});\n",
       "}}\n",
       "\n",
       "// Listen for the clearing of the current output cell\n",
       "var outputEl = gd.closest('.output');\n",
       "if (outputEl) {{\n",
       "    x.observe(outputEl, {childList: true});\n",
       "}}\n",
       "\n",
       "                        })                };                });            </script>        </div>"
      ]
     },
     "metadata": {},
     "output_type": "display_data"
    }
   ],
   "source": [
    "fig = bls.assign(year=lambda x: x.year.map(int), value = lambda x: x.value.map(float)).plot(x='year', y ='BY_VALUE', color ='measure_data_type', kind='scatter')\n",
    "fig.show()"
   ]
  },
  {
   "cell_type": "code",
   "execution_count": null,
   "id": "d5fe70fb-6521-47e2-aa55-c8b8e866b188",
   "metadata": {},
   "outputs": [
    {
     "data": {
      "text/html": [
       "<div>\n",
       "<style scoped>\n",
       "    .dataframe tbody tr th:only-of-type {\n",
       "        vertical-align: middle;\n",
       "    }\n",
       "\n",
       "    .dataframe tbody tr th {\n",
       "        vertical-align: top;\n",
       "    }\n",
       "\n",
       "    .dataframe thead th {\n",
       "        text-align: right;\n",
       "    }\n",
       "</style>\n",
       "<table border=\"1\" class=\"dataframe\">\n",
       "  <thead>\n",
       "    <tr style=\"text-align: right;\">\n",
       "      <th></th>\n",
       "      <th>survey_abbreviation</th>\n",
       "      <th>survey_name</th>\n",
       "    </tr>\n",
       "  </thead>\n",
       "  <tbody>\n",
       "    <tr>\n",
       "      <th>0</th>\n",
       "      <td>AP</td>\n",
       "      <td>Consumer Price Index - Average Price Data</td>\n",
       "    </tr>\n",
       "    <tr>\n",
       "      <th>12</th>\n",
       "      <td>CU</td>\n",
       "      <td>Consumer Price Index - All Urban Consumers</td>\n",
       "    </tr>\n",
       "    <tr>\n",
       "      <th>13</th>\n",
       "      <td>CW</td>\n",
       "      <td>Consumer Price Index - Urban Wage Earners and ...</td>\n",
       "    </tr>\n",
       "    <tr>\n",
       "      <th>14</th>\n",
       "      <td>CX</td>\n",
       "      <td>Consumer Expenditure Survey</td>\n",
       "    </tr>\n",
       "    <tr>\n",
       "      <th>38</th>\n",
       "      <td>LI</td>\n",
       "      <td>Consumer Price Index - Department Store Invent...</td>\n",
       "    </tr>\n",
       "    <tr>\n",
       "      <th>43</th>\n",
       "      <td>MU</td>\n",
       "      <td>Consumer Price Index - All Urban Consumers (Ol...</td>\n",
       "    </tr>\n",
       "    <tr>\n",
       "      <th>44</th>\n",
       "      <td>MW</td>\n",
       "      <td>Consumer Price Index - Urban Wage Earners and ...</td>\n",
       "    </tr>\n",
       "    <tr>\n",
       "      <th>60</th>\n",
       "      <td>SU</td>\n",
       "      <td>Consumer Price Index - Chained Consumer Price ...</td>\n",
       "    </tr>\n",
       "  </tbody>\n",
       "</table>\n",
       "</div>"
      ],
      "text/plain": [
       "   survey_abbreviation                                        survey_name\n",
       "0                   AP          Consumer Price Index - Average Price Data\n",
       "12                  CU         Consumer Price Index - All Urban Consumers\n",
       "13                  CW  Consumer Price Index - Urban Wage Earners and ...\n",
       "14                  CX                        Consumer Expenditure Survey\n",
       "38                  LI  Consumer Price Index - Department Store Invent...\n",
       "43                  MU  Consumer Price Index - All Urban Consumers (Ol...\n",
       "44                  MW  Consumer Price Index - Urban Wage Earners and ...\n",
       "60                  SU  Consumer Price Index - Chained Consumer Price ..."
      ]
     },
     "execution_count": null,
     "metadata": {},
     "output_type": "execute_result"
    }
   ],
   "source": [
    "surveys = bls_surveys()\n",
    "surveys.loc[surveys.survey_name.str.contains(\"Consumer\")]"
   ]
  },
  {
   "cell_type": "code",
   "execution_count": null,
   "id": "fda23ea4-deec-4a10-b506-f31b5e0b37f0",
   "metadata": {},
   "outputs": [
    {
     "data": {
      "text/html": [
       "<div>\n",
       "<style scoped>\n",
       "    .dataframe tbody tr th:only-of-type {\n",
       "        vertical-align: middle;\n",
       "    }\n",
       "\n",
       "    .dataframe tbody tr th {\n",
       "        vertical-align: top;\n",
       "    }\n",
       "\n",
       "    .dataframe thead th {\n",
       "        text-align: right;\n",
       "    }\n",
       "</style>\n",
       "<table border=\"1\" class=\"dataframe\">\n",
       "  <thead>\n",
       "    <tr style=\"text-align: right;\">\n",
       "      <th></th>\n",
       "      <th>survey_abbreviation</th>\n",
       "      <th>survey_name</th>\n",
       "    </tr>\n",
       "  </thead>\n",
       "  <tbody>\n",
       "    <tr>\n",
       "      <th>0</th>\n",
       "      <td>AP</td>\n",
       "      <td>Consumer Price Index - Average Price Data</td>\n",
       "    </tr>\n",
       "    <tr>\n",
       "      <th>51</th>\n",
       "      <td>PC</td>\n",
       "      <td>Producer Price Index Industry Data</td>\n",
       "    </tr>\n",
       "    <tr>\n",
       "      <th>64</th>\n",
       "      <td>WP</td>\n",
       "      <td>Producer Price Index-Commodities</td>\n",
       "    </tr>\n",
       "  </tbody>\n",
       "</table>\n",
       "</div>"
      ],
      "text/plain": [
       "   survey_abbreviation                                survey_name\n",
       "0                   AP  Consumer Price Index - Average Price Data\n",
       "51                  PC         Producer Price Index Industry Data\n",
       "64                  WP           Producer Price Index-Commodities"
      ]
     },
     "execution_count": null,
     "metadata": {},
     "output_type": "execute_result"
    }
   ],
   "source": [
    "surveys.query(\"survey_abbreviation in ('PC','WP', 'AP')\")"
   ]
  },
  {
   "cell_type": "code",
   "execution_count": null,
   "id": "dbcb1ea0-e17f-400d-9f79-ac06cb98d791",
   "metadata": {},
   "outputs": [],
   "source": []
  }
 ],
 "metadata": {
  "kernelspec": {
   "display_name": "Python 3",
   "language": "python",
   "name": "python3"
  }
 },
 "nbformat": 4,
 "nbformat_minor": 5
}
