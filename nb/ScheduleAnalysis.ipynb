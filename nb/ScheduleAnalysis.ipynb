{
 "cells": [
  {
   "cell_type": "code",
   "execution_count": null,
   "metadata": {},
   "outputs": [],
   "source": [
    "import simpy\n",
    "import pandas as pd"
   ]
  },
  {
   "cell_type": "code",
   "execution_count": null,
   "metadata": {},
   "outputs": [],
   "source": [
    "class Schedule(simpy.Environment):\n",
    "    def __init__(self, name = \"Test\", Tasks=None,num_workers=simpy.core.Infinity, **meta):\n",
    "        super().__init__()\n",
    "        self.env=simpy.Environment()\n",
    "        self.name=name\n",
    "        self.meta = meta\n",
    "        self._tasks = []\n",
    "        self.make_task_df()\n",
    "        self.workers = simpy.Resource(self, capacity=num_workers)\n",
    "    def add_tasks(self, tasks):\n",
    "\n",
    "        if not isinstance(tasks, list): tasks = [tasks]\n",
    "        for task in tasks:\n",
    "            \n",
    "            self._tasks.append(task)\n",
    "            self.process(task.do_task(self))\n",
    "            task.complete = simpy.Event(self)\n",
    "        \n",
    "        self.env.run() \n",
    "            \n",
    "    def make_task_df(self):\n",
    "        tmp = pd.DataFrame()\n",
    "        for task in self._tasks:\n",
    "            tmp = tmp.append(\n",
    "                pd.DataFrame({\n",
    "                \"ProjectName\": [self.name],\n",
    "                \"ProjectMeta\": [self.meta],    \n",
    "                \"TaskName\": [task.name],\n",
    "                \"StartDate\": [task.start_date],\n",
    "                    \"EndDate\": [task.end_date],\n",
    "                    \"Preds\": [[pred.name for pred in task.preds]],\n",
    "                    \"Meta\": [task.meta]\n",
    "                }\n",
    "            ),  ignore_index=True) \n",
    "        self._tasks_df = tmp\n",
    "        return self._tasks_df\n",
    "\n",
    "    \n",
    "class Task:\n",
    "    def __init__(self,name, duration, preds, env, **meta ):\n",
    "        self.meta = meta\n",
    "        self.env=env\n",
    "        self.name=name\n",
    "        self.duration =duration\n",
    "        if preds is None:\n",
    "            self.preds = []\n",
    "        else:\n",
    "            if not isinstance(preds,list): \n",
    "                preds = [preds]\n",
    "            self.preds = preds\n",
    "        self.start_date = None\n",
    "        self.end_date=None\n",
    "        self.complete=simpy.Event(env)\n",
    "        self.progress = 0\n",
    "\n",
    "        \n",
    "    def do_task(self,env):\n",
    "        while not self.complete.triggered:\n",
    "            # start task when preds begin\n",
    "            for pred in self.preds:\n",
    "                try:\n",
    "                #print(self.name, \"waiting on task\", pred.name)\n",
    "                    yield pred.complete\n",
    "                except:\n",
    "                    print(pred, \"Something went wrong\")\n",
    "            #getting resources\n",
    "            with env.workers.request() as request:\n",
    "                yield request\n",
    "                print(env.workers.count)\n",
    "                print(self.name, 'starting task')\n",
    "                self.start_date = env.now\n",
    "\n",
    "                yield env.timeout(self.duration)\n",
    "                self.end_date = env.now\n",
    "                yield self.complete.succeed()\n",
    "                print(self.name,'finished task')\n",
    "                       \n",
    "            #release resources\n",
    "            #yield env.workers.release(1)\n",
    "            \n",
    "        "
   ]
  },
  {
   "cell_type": "code",
   "execution_count": null,
   "metadata": {},
   "outputs": [],
   "source": [
    "S = Schedule(num_workers=5)\n",
    "T1 = Task( 'Task1', 10, None, S, Important=True)\n",
    "T2 = Task( 'Task2', 10, T1, S)\n",
    "T3 = Task('Task3', 20, T1,S)\n",
    "T4 = Task('Task4', 7, [T2,T3],S)\n",
    "S.add_tasks([T1, T2,T3,T4])\n"
   ]
  },
  {
   "cell_type": "code",
   "execution_count": null,
   "metadata": {},
   "outputs": [
    {
     "name": "stdout",
     "output_type": "stream",
     "text": [
      "Task1 None None {'Important': True}\n",
      "Task2 None None {}\n",
      "Task3 None None {}\n",
      "Task4 None None {}\n"
     ]
    },
    {
     "data": {
      "text/html": [
       "<div>\n",
       "<style scoped>\n",
       "    .dataframe tbody tr th:only-of-type {\n",
       "        vertical-align: middle;\n",
       "    }\n",
       "\n",
       "    .dataframe tbody tr th {\n",
       "        vertical-align: top;\n",
       "    }\n",
       "\n",
       "    .dataframe thead th {\n",
       "        text-align: right;\n",
       "    }\n",
       "</style>\n",
       "<table border=\"1\" class=\"dataframe\">\n",
       "  <thead>\n",
       "    <tr style=\"text-align: right;\">\n",
       "      <th></th>\n",
       "      <th>ProjectName</th>\n",
       "      <th>ProjectMeta</th>\n",
       "      <th>TaskName</th>\n",
       "      <th>StartDate</th>\n",
       "      <th>EndDate</th>\n",
       "      <th>Preds</th>\n",
       "      <th>Meta</th>\n",
       "    </tr>\n",
       "  </thead>\n",
       "  <tbody>\n",
       "    <tr>\n",
       "      <th>0</th>\n",
       "      <td>Test</td>\n",
       "      <td>{}</td>\n",
       "      <td>Task1</td>\n",
       "      <td>None</td>\n",
       "      <td>None</td>\n",
       "      <td>[]</td>\n",
       "      <td>{'Important': True}</td>\n",
       "    </tr>\n",
       "    <tr>\n",
       "      <th>1</th>\n",
       "      <td>Test</td>\n",
       "      <td>{}</td>\n",
       "      <td>Task2</td>\n",
       "      <td>None</td>\n",
       "      <td>None</td>\n",
       "      <td>[Task1]</td>\n",
       "      <td>{}</td>\n",
       "    </tr>\n",
       "    <tr>\n",
       "      <th>2</th>\n",
       "      <td>Test</td>\n",
       "      <td>{}</td>\n",
       "      <td>Task3</td>\n",
       "      <td>None</td>\n",
       "      <td>None</td>\n",
       "      <td>[Task1]</td>\n",
       "      <td>{}</td>\n",
       "    </tr>\n",
       "    <tr>\n",
       "      <th>3</th>\n",
       "      <td>Test</td>\n",
       "      <td>{}</td>\n",
       "      <td>Task4</td>\n",
       "      <td>None</td>\n",
       "      <td>None</td>\n",
       "      <td>[Task2, Task3]</td>\n",
       "      <td>{}</td>\n",
       "    </tr>\n",
       "  </tbody>\n",
       "</table>\n",
       "</div>"
      ],
      "text/plain": [
       "  ProjectName ProjectMeta TaskName StartDate EndDate           Preds  \\\n",
       "0        Test          {}    Task1      None    None              []   \n",
       "1        Test          {}    Task2      None    None         [Task1]   \n",
       "2        Test          {}    Task3      None    None         [Task1]   \n",
       "3        Test          {}    Task4      None    None  [Task2, Task3]   \n",
       "\n",
       "                  Meta  \n",
       "0  {'Important': True}  \n",
       "1                   {}  \n",
       "2                   {}  \n",
       "3                   {}  "
      ]
     },
     "execution_count": null,
     "metadata": {},
     "output_type": "execute_result"
    }
   ],
   "source": [
    "for task in S._tasks:\n",
    "    print(task.name, task.start_date, task.end_date, task.meta)\n",
    "S.make_task_df()"
   ]
  },
  {
   "cell_type": "code",
   "execution_count": null,
   "metadata": {},
   "outputs": [
    {
     "name": "stdout",
     "output_type": "stream",
     "text": [
      "1\n",
      "New Task2 starting task\n",
      "New Task2 finished task\n"
     ]
    }
   ],
   "source": [
    "S.add_tasks(Task(\"New Task2\", 50,[T1], S))\n",
    "S.run()"
   ]
  },
  {
   "cell_type": "code",
   "execution_count": null,
   "metadata": {},
   "outputs": [
    {
     "name": "stdout",
     "output_type": "stream",
     "text": [
      "Task1 0 10\n",
      "Task2 10 20\n",
      "Task3 10 30\n",
      "Task4 30 37\n",
      "New Task2 10 60\n",
      "New Task2 60 110\n",
      "New Task2 110 160\n",
      "New Task2 160 210\n"
     ]
    },
    {
     "data": {
      "text/html": [
       "<div>\n",
       "<style scoped>\n",
       "    .dataframe tbody tr th:only-of-type {\n",
       "        vertical-align: middle;\n",
       "    }\n",
       "\n",
       "    .dataframe tbody tr th {\n",
       "        vertical-align: top;\n",
       "    }\n",
       "\n",
       "    .dataframe thead th {\n",
       "        text-align: right;\n",
       "    }\n",
       "</style>\n",
       "<table border=\"1\" class=\"dataframe\">\n",
       "  <thead>\n",
       "    <tr style=\"text-align: right;\">\n",
       "      <th></th>\n",
       "      <th>ProjectName</th>\n",
       "      <th>ProjectMeta</th>\n",
       "      <th>TaskName</th>\n",
       "      <th>StartDate</th>\n",
       "      <th>EndDate</th>\n",
       "      <th>Preds</th>\n",
       "      <th>Meta</th>\n",
       "    </tr>\n",
       "  </thead>\n",
       "  <tbody>\n",
       "    <tr>\n",
       "      <th>0</th>\n",
       "      <td>Test</td>\n",
       "      <td>{}</td>\n",
       "      <td>Task1</td>\n",
       "      <td>0</td>\n",
       "      <td>10</td>\n",
       "      <td>[]</td>\n",
       "      <td>{'Important': True}</td>\n",
       "    </tr>\n",
       "    <tr>\n",
       "      <th>1</th>\n",
       "      <td>Test</td>\n",
       "      <td>{}</td>\n",
       "      <td>Task2</td>\n",
       "      <td>10</td>\n",
       "      <td>20</td>\n",
       "      <td>[Task1]</td>\n",
       "      <td>{}</td>\n",
       "    </tr>\n",
       "    <tr>\n",
       "      <th>2</th>\n",
       "      <td>Test</td>\n",
       "      <td>{}</td>\n",
       "      <td>Task3</td>\n",
       "      <td>10</td>\n",
       "      <td>30</td>\n",
       "      <td>[Task1]</td>\n",
       "      <td>{}</td>\n",
       "    </tr>\n",
       "    <tr>\n",
       "      <th>3</th>\n",
       "      <td>Test</td>\n",
       "      <td>{}</td>\n",
       "      <td>Task4</td>\n",
       "      <td>30</td>\n",
       "      <td>37</td>\n",
       "      <td>[Task2, Task3]</td>\n",
       "      <td>{}</td>\n",
       "    </tr>\n",
       "    <tr>\n",
       "      <th>4</th>\n",
       "      <td>Test</td>\n",
       "      <td>{}</td>\n",
       "      <td>New Task2</td>\n",
       "      <td>10</td>\n",
       "      <td>60</td>\n",
       "      <td>[Task1]</td>\n",
       "      <td>{}</td>\n",
       "    </tr>\n",
       "    <tr>\n",
       "      <th>5</th>\n",
       "      <td>Test</td>\n",
       "      <td>{}</td>\n",
       "      <td>New Task2</td>\n",
       "      <td>60</td>\n",
       "      <td>110</td>\n",
       "      <td>[Task1]</td>\n",
       "      <td>{}</td>\n",
       "    </tr>\n",
       "    <tr>\n",
       "      <th>6</th>\n",
       "      <td>Test</td>\n",
       "      <td>{}</td>\n",
       "      <td>New Task2</td>\n",
       "      <td>110</td>\n",
       "      <td>160</td>\n",
       "      <td>[Task1]</td>\n",
       "      <td>{}</td>\n",
       "    </tr>\n",
       "    <tr>\n",
       "      <th>7</th>\n",
       "      <td>Test</td>\n",
       "      <td>{}</td>\n",
       "      <td>New Task2</td>\n",
       "      <td>160</td>\n",
       "      <td>210</td>\n",
       "      <td>[Task1]</td>\n",
       "      <td>{}</td>\n",
       "    </tr>\n",
       "  </tbody>\n",
       "</table>\n",
       "</div>"
      ],
      "text/plain": [
       "  ProjectName ProjectMeta   TaskName  StartDate  EndDate           Preds  \\\n",
       "0        Test          {}      Task1          0       10              []   \n",
       "1        Test          {}      Task2         10       20         [Task1]   \n",
       "2        Test          {}      Task3         10       30         [Task1]   \n",
       "3        Test          {}      Task4         30       37  [Task2, Task3]   \n",
       "4        Test          {}  New Task2         10       60         [Task1]   \n",
       "5        Test          {}  New Task2         60      110         [Task1]   \n",
       "6        Test          {}  New Task2        110      160         [Task1]   \n",
       "7        Test          {}  New Task2        160      210         [Task1]   \n",
       "\n",
       "                  Meta  \n",
       "0  {'Important': True}  \n",
       "1                   {}  \n",
       "2                   {}  \n",
       "3                   {}  \n",
       "4                   {}  \n",
       "5                   {}  \n",
       "6                   {}  \n",
       "7                   {}  "
      ]
     },
     "execution_count": null,
     "metadata": {},
     "output_type": "execute_result"
    }
   ],
   "source": [
    "for task in S._tasks:\n",
    "    print(task.name, task.start_date, task.end_date)\n",
    "S.make_task_df()"
   ]
  },
  {
   "cell_type": "code",
   "execution_count": null,
   "metadata": {},
   "outputs": [
    {
     "data": {
      "text/plain": [
       "[<__main__.Task at 0x25b85bfc248>]"
      ]
     },
     "execution_count": null,
     "metadata": {},
     "output_type": "execute_result"
    }
   ],
   "source": [
    "T3.preds"
   ]
  },
  {
   "cell_type": "code",
   "execution_count": null,
   "metadata": {},
   "outputs": [],
   "source": [
    "T3.preds[0].name"
   ]
  },
  {
   "cell_type": "code",
   "execution_count": null,
   "metadata": {},
   "outputs": [
    {
     "ename": "TypeError",
     "evalue": "__init__() got an unexpected keyword argument 'init'",
     "output_type": "error",
     "traceback": [
      "\u001b[1;31m---------------------------------------------------------------------------\u001b[0m",
      "\u001b[1;31mTypeError\u001b[0m                                 Traceback (most recent call last)",
      "\u001b[1;32m<ipython-input-99-d4acc55a74f0>\u001b[0m in \u001b[0;36m<module>\u001b[1;34m\u001b[0m\n\u001b[1;32m----> 1\u001b[1;33m \u001b[0mEmployees\u001b[0m \u001b[1;33m=\u001b[0m \u001b[0msimpy\u001b[0m\u001b[1;33m.\u001b[0m\u001b[0mResource\u001b[0m\u001b[1;33m(\u001b[0m\u001b[0mS\u001b[0m\u001b[1;33m,\u001b[0m\u001b[1;36m100000\u001b[0m\u001b[1;33m,\u001b[0m \u001b[0minit\u001b[0m\u001b[1;33m=\u001b[0m\u001b[1;36m100\u001b[0m\u001b[1;33m)\u001b[0m\u001b[1;33m\u001b[0m\u001b[1;33m\u001b[0m\u001b[0m\n\u001b[0m",
      "\u001b[1;31mTypeError\u001b[0m: __init__() got an unexpected keyword argument 'init'"
     ]
    }
   ],
   "source": [
    "Employees = simpy.Resource(S,100000, init=100)"
   ]
  },
  {
   "cell_type": "code",
   "execution_count": null,
   "metadata": {},
   "outputs": [
    {
     "ename": "TypeError",
     "evalue": "__init__() takes 2 positional arguments but 3 were given",
     "output_type": "error",
     "traceback": [
      "\u001b[1;31m---------------------------------------------------------------------------\u001b[0m",
      "\u001b[1;31mTypeError\u001b[0m                                 Traceback (most recent call last)",
      "\u001b[1;32m<ipython-input-67-d6683f83ccfa>\u001b[0m in \u001b[0;36m<module>\u001b[1;34m\u001b[0m\n\u001b[1;32m----> 1\u001b[1;33m \u001b[0mEmployees\u001b[0m\u001b[1;33m.\u001b[0m\u001b[0mget\u001b[0m\u001b[1;33m(\u001b[0m\u001b[1;36m1\u001b[0m\u001b[1;33m)\u001b[0m\u001b[1;33m\u001b[0m\u001b[1;33m\u001b[0m\u001b[0m\n\u001b[0m\u001b[0;32m      2\u001b[0m \u001b[0mEmployees\u001b[0m\u001b[1;33m.\u001b[0m\u001b[0mcapacity\u001b[0m\u001b[1;33m\u001b[0m\u001b[1;33m\u001b[0m\u001b[0m\n",
      "\u001b[1;31mTypeError\u001b[0m: __init__() takes 2 positional arguments but 3 were given"
     ]
    }
   ],
   "source": [
    "Employees.get(1)\n",
    "Employees.request(\n",
    "Employees.capacity"
   ]
  },
  {
   "cell_type": "code",
   "execution_count": null,
   "metadata": {},
   "outputs": [
    {
     "data": {
      "text/plain": [
       "0"
      ]
     },
     "execution_count": null,
     "metadata": {},
     "output_type": "execute_result"
    }
   ],
   "source": [
    "S.workers.count"
   ]
  },
  {
   "cell_type": "code",
   "execution_count": null,
   "metadata": {},
   "outputs": [],
   "source": []
  }
 ],
 "metadata": {
  "kernelspec": {
   "display_name": "Python 3",
   "language": "python",
   "name": "python3"
  }
 },
 "nbformat": 4,
 "nbformat_minor": 4
}
